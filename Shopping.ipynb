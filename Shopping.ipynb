{
  "cells": [
    {
      "cell_type": "markdown",
      "metadata": {
        "id": "view-in-github",
        "colab_type": "text"
      },
      "source": [
        "<a href=\"https://colab.research.google.com/github/Tanvi-Gajula/Projects/blob/main/Shopping.ipynb\" target=\"_parent\"><img src=\"https://colab.research.google.com/assets/colab-badge.svg\" alt=\"Open In Colab\"/></a>"
      ]
    },
    {
      "cell_type": "markdown",
      "metadata": {
        "id": "Anfzrt4lT8Sa"
      },
      "source": [
        "1)Write a program to Create a list of items for the shopping by using list?"
      ]
    },
    {
      "cell_type": "code",
      "execution_count": null,
      "metadata": {
        "id": "z36QIOK58Arh"
      },
      "outputs": [],
      "source": [
        "#creation of the list\n",
        "list1 = []\n",
        "# taking input of number of items in list \n",
        "items = int(input(\"Enter number of items in the list : \"))\n",
        "# iterating till the range\n",
        "for i in range(0, items):\n",
        "   print(\"Enter element No-{}: \".format(i+1))\n",
        "   elm = input()\n",
        "   list1.append(elm) # adding the element\n",
        "print(\"The items for the shopping are: \\n\",list1)"
      ]
    },
    {
      "cell_type": "markdown",
      "metadata": {
        "id": "KtPllsHk8YYA"
      },
      "source": [
        "2)Write a program to select the desired category and print the category chosen"
      ]
    },
    {
      "cell_type": "code",
      "execution_count": null,
      "metadata": {
        "colab": {
          "base_uri": "https://localhost:8080/"
        },
        "id": "onhyze6T8X0X",
        "outputId": "05c8fef4-f303-43f5-fb58-4a27c0579d82"
      },
      "outputs": [
        {
          "name": "stdout",
          "output_type": "stream",
          "text": [
            "Enter the category to shopGrocery\n"
          ]
        }
      ],
      "source": [
        "catlist=['Clothes','Grocery','Toys','Electronics'] #declaring the categotry\n",
        "print(catlist) #printing the list\n",
        "ch=input(\"Enter the category to shop:\") #taking the choice of category from user\n",
        "for i in range(0,3): #taking for loop to access each category of list\n",
        "  if catlist[i] == ch: #if choice in list\n",
        "    print(ch,\"section shopping\") #printing the choice section"
      ]
    },
    {
      "cell_type": "markdown",
      "metadata": {
        "id": "jh7hNfw6UB5N"
      },
      "source": [
        "3) Enter amount as an input, you want to spend for\n",
        " a particular item. Print the range availability and\n",
        " its section number, as per the input given."
      ]
    },
    {
      "cell_type": "code",
      "execution_count": null,
      "metadata": {
        "id": "CrWUVeKgA_sq"
      },
      "outputs": [],
      "source": [
        "# taking amount in rupees as input\n",
        "rs=int(input(\"enter price:\"))\n",
        "# elif-ladder to compare range\n",
        "\n",
        "# for below-100\n",
        "if (rs<100):\n",
        "    print(\"Range currently not Available for rupees %d\" %rs)\n",
        "# for 100-500\n",
        "elif (100<=rs<500):\n",
        "    print(\"%d rupees Lies in range 100-500\" %rs)\n",
        "    print(\"Proceed to section-1\")\n",
        "# for 500-1000\n",
        "elif (500<=rs<1000):\n",
        "    print(\"%d rupees Lies in range 500-1000\" %rs)\n",
        "    print(\"Proceed to section-2\")\n",
        "# for 1000-2000\n",
        "elif (1000<=rs<2000):\n",
        "    print(\"%d rupees Lies in range 1000-2000\" %rs)\n",
        "    print(\"Proceed to section-2\")\n",
        "# for 2000-above\n",
        "else:\n",
        "    print(\"%d rupees Lies in range 2000-above\" %rs)\n",
        "    print(\"Proceed to section-4\")"
      ]
    },
    {
      "cell_type": "markdown",
      "metadata": {
        "id": "sa5g1UmTUYUT"
      },
      "source": [
        "4)Write a program and provide choice to the user about the mode of the shopping?"
      ]
    },
    {
      "cell_type": "code",
      "execution_count": null,
      "metadata": {
        "id": "Nh0dZD-PBABg"
      },
      "outputs": [],
      "source": [
        "#mode of the shopping \n",
        "list2=['Online','Offline']\n",
        "print(\"Mode of the shopping are:\\n\",list2)\n",
        "#what is the choice of the customer\n",
        "m=int(input(\"Enter your choice which provide your more convience\\n0 for online\\n1 for offline:\\n\"))\n",
        "# iterating till the range\n",
        "for i in range(0,2):\n",
        "  if i==m:\n",
        "    print(\"mode of the shopping is:\",list2[i])"
      ]
    },
    {
      "cell_type": "markdown",
      "metadata": {
        "id": "nbO6D3leUe18"
      },
      "source": [
        "5)Find nearby malls, local and supermarkets in your locality for shopping.\n"
      ]
    },
    {
      "cell_type": "code",
      "execution_count": null,
      "metadata": {
        "id": "Z9CXh0fBBARJ"
      },
      "outputs": [],
      "source": [
        "#taking locality as input\n",
        "locality=input(\"enter locality:\")\n",
        "\n",
        "#elif ladder to check nearby shopping complex\n",
        "if (locality=='Rajan nagar'):\n",
        "    print(\"Nearby shopping places:\"\n",
        "          \"\\n1.Phoenix city mall\"\n",
        "          \"\\n2.RJ local market\")\n",
        "elif (locality=='Serene blocks'):\n",
        "    print(\"Nearby shopping places:\"\n",
        "          \"\\n1.Central Marina mall\"\n",
        "          \"\\n2.SB mall\"\n",
        "          \"\\n3.Serene supermarket\")\n",
        "elif (locality=='Blossom alley'):\n",
        "    print(\"Nearby shopping places:\"\n",
        "          \"\\n1.Blossom A-Z market\"\n",
        "          \"\\n2.Eastern Marina mall\")\n",
        "elif (locality=='Radhika vihar'):\n",
        "    print(\"Nearby shopping places:\"\n",
        "          \"\\n1.RV supermarket\"\n",
        "          \"\\n2.Southern Marina mall\"\n",
        "          \"\\n3.RV state local market\")\n",
        "else:\n",
        "    print(\"Locality not yet registered!!\")"
      ]
    },
    {
      "cell_type": "markdown",
      "metadata": {
        "id": "QdBsdnznUpqi"
      },
      "source": [
        "6)Make a dictionary that provide the information about the mall distance and write the program which obtain the information about the distance that How far is the shopping centre?"
      ]
    },
    {
      "cell_type": "code",
      "execution_count": null,
      "metadata": {
        "id": "yY3dppguBAh0"
      },
      "outputs": [],
      "source": [
        "#cretion of the dictionary \n",
        "dic1={'Phoenix Marketcity':['25Km'],'chennai city centre':['50km'],'Express Avenue':['24km'],'Plaza of delhi':['30km'],'mini-market mumbai':['44km'],'Ikea of hyderabad':['29km']}\n",
        "print(dic1)\n",
        "#taking the name of the mall as input from the user\n",
        "name=input(\"Enter the name of the mall:\")\n",
        "#for loop for reading the items in the dictionary\n",
        "for i,j in dic1.items():\n",
        "  #reading the key value of the dictionary\n",
        "  if name in i:\n",
        "    for k in j:\n",
        "      print(\"Distance of\",name,\"mall is:\",k)"
      ]
    },
    {
      "cell_type": "markdown",
      "metadata": {
        "id": "oBI86w_ZUwBI"
      },
      "source": [
        "7) Check if the item is in stock or out of stock."
      ]
    },
    {
      "cell_type": "code",
      "execution_count": null,
      "metadata": {
        "id": "VcdA3nn6BAxt"
      },
      "outputs": [],
      "source": [
        "#dictionary of item with their available quantity\n",
        "itemdict={'cup':4,'cold drink':10,'coffee powder':21,'snack':6\n",
        "      ,'soap':32,'detergent':5,'water bottle':12,'container':3\n",
        "      ,'foil wrap':8,'hand towel':13,'face wash':1}\n",
        "\n",
        "#printing the dictionary\n",
        "print(\"List of items available:\\n\")\n",
        "for i in itemdict :\n",
        "    print(i,\":\", itemdict[i])\n",
        "\n",
        "#taking name item as input\n",
        "item=input(\"\\nenter item name:\")\n",
        "#taking qty as input\n",
        "qty=int(input(\"enter no. of items:\"))\n",
        "\n",
        "#elif ladder to check availability as per input\n",
        "if(item in itemdict):\n",
        "      if(qty<=itemdict[item]):\n",
        "            print(\"Item available\")\n",
        "            print(\"Proceed to checkout->\")\n",
        "            itemdict[item]=itemdict[item]-qty\n",
        "      else:\n",
        "            print(\"Quantity out of stock!!\")\n",
        "else:\n",
        "      print(\"Item out of stock!!\")\n",
        "\n",
        "#after check out, printing no. of qty left\n",
        "print(\"List of items available:\\n\")\n",
        "for i in itemdict :\n",
        "    print(i,\":\", itemdict[i])"
      ]
    },
    {
      "cell_type": "markdown",
      "metadata": {
        "id": "eKaE0BvBBCMO"
      },
      "source": [
        "8)Write a program to compare the budget with brand prices and provide the suitable output accordingly"
      ]
    },
    {
      "cell_type": "code",
      "execution_count": null,
      "metadata": {
        "id": "2nU0um5zBA-y"
      },
      "outputs": [],
      "source": [
        "#declaraling brands and their prices using dictionary\n",
        "brand={'HandM':1200,'pantaloons':2000,'nykaa':3000,'laxme':8000,'maybaleen':10000,'kiara':11000}\n",
        "print(brand) #printing the dictionary\n",
        "bp= int(input(\"Enter the budget to be compared:\")) #taking the budget input from user\n",
        "#comparing the budget with various prices and printing the best brand to shop\n",
        "if(bp==1200):\n",
        "    print(\"HandM price is good\")\n",
        "elif (1200<bp<=2000):\n",
        "     print(\"Pantaloons price is good\")\n",
        "elif (2000<bp<=3000):\n",
        "  print(\"Nykaa price is good\")\n",
        "elif (3000<bp<=8000):\n",
        "  print(\"Laxme price is good\")\n",
        "elif (8000<bp<=10000):\n",
        "    print(\"Maybaleen price is good\")\n",
        "elif (10000<bp<=11000):\n",
        "    print(\"Kiara price is good\")\n",
        "else:\n",
        "   print(\"Noting in range\")\n"
      ]
    },
    {
      "cell_type": "markdown",
      "metadata": {
        "id": "Hqi3GY0CVnlE"
      },
      "source": [
        "9) Take item and brand as input from user and check if the offer is applicable for the particular product or not."
      ]
    },
    {
      "cell_type": "code",
      "execution_count": null,
      "metadata": {
        "id": "cXa2qtiII3gt"
      },
      "outputs": [],
      "source": [
        "print(\"category and brands available:\\n\")\n",
        "#list in dictionary of category and brand\n",
        "categ_brand={'clothing':['levis','H&M'],\n",
        "             'crockery':['milton','cello'],\n",
        "             'electronics':['samsung','apple','sony','LG'],\n",
        "             'snacks':['balaji','haldiram'],\n",
        "             'grooming products':['nivea','lakme'],\n",
        "             'furniture':['ikea','ashley','kartell']}\n",
        "#printing dictionary\n",
        "for i in categ_brand :\n",
        "    print(i,\":\", categ_brand[i])\n",
        "\n",
        "#taking category name as input\n",
        "cat=input(\"\\nenter category:\")\n",
        "#taking brand name as input\n",
        "brand=input(\"enter brand:\")\n",
        "\n",
        "#elif ladder to check offers available\n",
        "if cat=='clothing':\n",
        "    if(brand=='levis'):\n",
        "        print(\"Offer available:\")\n",
        "        print(\"10% discount on product above rupees 1000!!\")\n",
        "    elif(brand=='H&M'):\n",
        "        print(\"Offer available:\")\n",
        "        print(\"buy 3 get 1 free!!\")\n",
        "\n",
        "elif cat=='crockery':\n",
        "    print(\"No offers currently available!!\")\n",
        "\n",
        "elif cat=='electronics':\n",
        "    if(brand=='sony'):\n",
        "        print(\"Offer available:\")\n",
        "        print(\"5% discount on product above rupees 20000!!\")\n",
        "    elif(brand=='LG'):\n",
        "        print(\"Offer available:\")\n",
        "        print(\"Upto 15% discount on exchange old products!!\")\n",
        "    else:\n",
        "        print(\"No offers currently available!!\")\n",
        "\n",
        "elif cat=='snacks':\n",
        "    if(brand=='balaji'):\n",
        "        print(\"Offer available:\")\n",
        "        print(\"But 1 get 20% off on 2nd!!\")\n",
        "    else:\n",
        "        print(\"No offers currently available!!\")\n",
        "else:\n",
        "    print(\"No offers currently available!!\")"
      ]
    },
    {
      "cell_type": "markdown",
      "metadata": {
        "id": "cURzMJgJI4Yz"
      },
      "source": [
        "10)Write a program to print the customer size for various dresses"
      ]
    },
    {
      "cell_type": "code",
      "execution_count": null,
      "metadata": {
        "colab": {
          "base_uri": "https://localhost:8080/"
        },
        "id": "ds7HFw6BI3uP",
        "outputId": "bf78b80b-8cc4-4f82-c1ef-5a99a7caa7d1"
      },
      "outputs": [
        {
          "name": "stdout",
          "output_type": "stream",
          "text": [
            "Enter the choice of dress:Jeans\n",
            "Enter the waist size:28\n",
            "Measurement of waist: 28\n"
          ]
        }
      ],
      "source": [
        "print(\"The available sizes:\") \n",
        "sizeofdress=['s','m','l','xl'] #takin the available sizes in list\n",
        "dict={'s':(26,21,32,11)} #specifying the measurements for small\n",
        "print(sizeofdress) #printing the list\n",
        "#taking waist,sleeves,length size input from user\n",
        "wa=int(input(\"Enter the size of your waist:\"))\n",
        "sl=int(input(\"Enter the size of your sleeves:\"))\n",
        "le=int(input(\"Enter your length:\"))\n",
        "#comparing the sizes of waist,sleeves,length and printing the desired size\n",
        "if(wa==28 and sl==3 and le==7):\n",
        "  size=sizeofdress[0]\n",
        "elif(wa==30 and sl==4 and le==8):\n",
        "  size=sizeofdress[1]\n",
        "elif(wa==32 and sl==5 and le==9):\n",
        "  size=sizeofdress[2]\n",
        "elif(wa==34 and sl==6 and le==10):\n",
        "  size=sizeofdress[3]\n",
        "print(\"perfect size for you:\",size)\n"
      ]
    },
    {
      "cell_type": "markdown",
      "metadata": {
        "id": "M2DsgVazVvb6"
      },
      "source": [
        "11)write a program to check the colour and size availability\n",
        "of various items in shopping mall"
      ]
    },
    {
      "cell_type": "code",
      "execution_count": null,
      "metadata": {
        "id": "KZhHXahjId-r"
      },
      "outputs": [],
      "source": [
        "#nested dictionary and list for colour and size availability of product\n",
        "dict={'shirts':{'blue':['s','m'],'green':['xl','xxl'],'black':['s']},\n",
        "      'T-shirts':{'white':['m','l'],'lavender':['s','xl','xxl']},\n",
        "      'tank top':{'blue':['s','m'],'pink':['l','xl','xxl']},\n",
        "      'denim':{'grey':['l','m'],'black':['xl','xxl'],'blue':['m']},\n",
        "      'jacket':{'brown':['s','m','xl','xxl'],'lilac':['l']},\n",
        "      'trouser':{'blue':['m','l'],'black':['xl']}}\n",
        "\n",
        "#item name as input from user\n",
        "item=input(\"enter item:\")\n",
        "print(\"colour available are:\")\n",
        "#printing available colours\n",
        "print(dict[item].keys())\n",
        "\n",
        "#colour name as input from user\n",
        "colour=input(\"enter colour:\")\n",
        "print(\"size avalable are:\")\n",
        "#printing available size\n",
        "print(dict[item][colour])"
      ]
    },
    {
      "cell_type": "markdown",
      "metadata": {
        "id": "FmnR8PtPWamW"
      },
      "source": [
        "12)Write a program that provide the information about What is the gender of the customer for whom they are doing the shopping and show the items for input?"
      ]
    },
    {
      "cell_type": "code",
      "execution_count": null,
      "metadata": {
        "id": "FDgK3MJmIeS2"
      },
      "outputs": [],
      "source": [
        "#gender of the customer\n",
        "gender=input(\"Enter the gender of the customer:\")\n",
        "#cretion of two list show the variety to male & female\n",
        "male=[\"Shirts\",\"T-shirts\",\"jeans\",\"Track pants\",\"Trousers of men\"]\n",
        "Female=[\"Kurta-sets\",\"Dresses\",\"Kurtas\",\"Tops&Tees\",\"jeans\",\"Heels&Flats\"]\n",
        "#condition that gender is male or female\n",
        "if gender == \"M\":\n",
        "  print(\"variety for the Male are:\")\n",
        "  print(male)\n",
        "elif gender == \"F\":\n",
        "  print(\"variety for the Female are:\")\n",
        "  print(Female)"
      ]
    },
    {
      "cell_type": "markdown",
      "metadata": {
        "id": "rmgmzfDfWpsw"
      },
      "source": [
        "13)Write a program for material selection of various items based on category"
      ]
    },
    {
      "cell_type": "code",
      "execution_count": null,
      "metadata": {
        "id": "R9DzVz-VIeiu"
      },
      "outputs": [],
      "source": [
        "#list in dictionary of category and material available\n",
        "categ_material={'clothing':['denim','cotton','silk','rayon'],\n",
        "             'crockery':['bone china','porcelain','terracotta'],\n",
        "             'utensil':['steel','aluminium','copper'],\n",
        "             'furniture':['wood','plywood']}\n",
        "\n",
        "#taking category as input\n",
        "cat=input(\"enter category:\")\n",
        "\n",
        "#taking material as input\n",
        "print(\"material available:\")\n",
        "\n",
        "#printing available material as per category\n",
        "print(categ_material[cat])"
      ]
    },
    {
      "cell_type": "markdown",
      "metadata": {
        "id": "MPVzLwF3WyTg"
      },
      "source": [
        "14)Create a dictionary about the famous items of the states which will help the people?"
      ]
    },
    {
      "cell_type": "code",
      "execution_count": null,
      "metadata": {
        "id": "tzzomQ04Ieyl"
      },
      "outputs": [],
      "source": [
        "#dictionary creation that capture the information about the states famous items\n",
        "dic2={\"Street food\":[\"Delhi\"],\"Tea ingredients\":[\"Ooty\"],\"Fabric-clothes\":[\"Ahmedabad\"],\"jewellery\":[\"Hyderabad\"],\"spices\":[\"kerala\"],\"sweets\":\"[Lucknow]\"}\n",
        "print(dic2)\n",
        "#what customer want to buy\n",
        "item=input(\"Entre the items you want to buy:\")\n",
        "#for loop reading the items of dictionary\n",
        "for i,j in dic2.items():\n",
        "  #reading the key value\n",
        "  if item in i:\n",
        "     for k in j:\n",
        "       print(\"Best item you can buy in :\",k)"
      ]
    },
    {
      "cell_type": "markdown",
      "metadata": {
        "id": "jCF5I7rtWzLN"
      },
      "source": [
        "15)Write a program to make feedback form for a shopping centre."
      ]
    },
    {
      "cell_type": "code",
      "execution_count": null,
      "metadata": {
        "id": "VOU5V1NrIfDS"
      },
      "outputs": [],
      "source": [
        "#name of customer as input\n",
        "name=input(\"enter your name:\")\n",
        "\n",
        "#email of customer as input\n",
        "email=input(\"enter your email:\")\n",
        "\n",
        "#feedback of customer as input\n",
        "feedback=input(\"enter feedback:\")\n",
        "\n",
        "#printing feedback form\n",
        "print(\"\\n!!!Feedback Form!!!\")\n",
        "print(\"Name:\",name)\n",
        "print(\"E-mail:\",email)\n",
        "print(\"Feedback Box:\\n\",feedback)\n",
        "print(\"\\nThankyou:)\\nFor your feedback!!\")"
      ]
    },
    {
      "cell_type": "markdown",
      "metadata": {
        "id": "t4TGjxQ8If8h"
      },
      "source": [
        "16)Write a program to calculate the invoice of all the items bought"
      ]
    },
    {
      "cell_type": "code",
      "execution_count": null,
      "metadata": {
        "colab": {
          "background_save": true
        },
        "id": "xTnaIS6vIfVw",
        "outputId": "0e3d1925-b58a-4ddf-d5d3-fd5bb9bb12ce"
      },
      "outputs": [
        {
          "name": "stdout",
          "output_type": "stream",
          "text": [
            "{'Hamleys toy': 2000, 'Top': 500, 'Bag': 3000, 'book': 500}\n",
            "Bag 2 6000\n",
            "Top 1 500\n"
          ]
        }
      ],
      "source": [
        "#taking a dictionary of various items and its price\n",
        "prod={'Hamleys toy':2000,'Top':500,'Bag':3000,'book':500}\n",
        "#printing the dictionary\n",
        "print(prod)\n",
        "noofprod=int(input(\"enter the no of items bought\")) #takling no of items from user\n",
        "for i in range(0,noofprod): #for loop to take invoice of each item\n",
        " item=input(\"enter the item name:\") #taking item name from user\n",
        " qn=int(input(\"Enter the Quantity of items:\")) #taking item quantity from user\n",
        " k=prod[item]*qn #calculating the price of item by quantity\n",
        " print(item,qn,k) #printing the invoice\n"
      ]
    },
    {
      "cell_type": "markdown",
      "metadata": {
        "id": "cmUQj6kdXIyc"
      },
      "source": [
        "17)Write a program where return or exchange policy for the items can be done successfully that satisfy the customer?"
      ]
    },
    {
      "cell_type": "code",
      "execution_count": null,
      "metadata": {
        "id": "xBg8W0n9Vrvo"
      },
      "outputs": [],
      "source": [
        "#what is the problem with item\n",
        "w= input(\"What is the Problem with item:\")\n",
        "#what is the item\n",
        "j=input(\"what is the item:\")\n",
        "#cost of the item\n",
        "k=int(input(\"enter the cost of the item:\"))\n",
        "op1=\"return\"\n",
        "op2=\"exchange\"\n",
        "#choice for the customer\n",
        "print(\"choices for the customer:\\noption1.\",op1,\"\\noption2.\",op2)\n",
        "m=input()\n",
        "#loop for the return policy\n",
        "if m==\"op1\":\n",
        "  print(\"Enter yr card details\")\n",
        "  no=int(input(\"Enter yr card number\"))\n",
        "  print(\"Return successful and refund is provided\")\n",
        "#loop for exchange policy\n",
        "elif m==\"op2\":\n",
        "  new_item=input(\"Enter the item you are purchasing in exchange:\")\n",
        "  cost=int(input(\"Enter the cost of item you are purchasing:\"))\n",
        "  if(cost>=k):\n",
        "    print(\"Exchange succesful and you have to pay\",cost-k,\"ruppees\")\n",
        "  elif (k>cost):\n",
        "    print(\"shopkeeper will give\",k-cost,\"ruppees as refund\")"
      ]
    },
    {
      "cell_type": "markdown",
      "metadata": {
        "id": "dh_GIW4uyOtP"
      },
      "source": [
        "18)Write a program to choose the payment option for shopping and the details required for payment"
      ]
    },
    {
      "cell_type": "code",
      "execution_count": null,
      "metadata": {
        "colab": {
          "base_uri": "https://localhost:8080/",
          "height": 380
        },
        "id": "M4PepI9mVr_3",
        "outputId": "34a06c69-dfbc-4054-e501-1b3394b324ec"
      },
      "outputs": [
        {
          "ename": "KeyboardInterrupt",
          "evalue": "ignored",
          "output_type": "error",
          "traceback": [
            "\u001b[0;31m---------------------------------------------------------------------------\u001b[0m",
            "\u001b[0;31mKeyboardInterrupt\u001b[0m                         Traceback (most recent call last)",
            "\u001b[0;32m<ipython-input-31-df03634f5c20>\u001b[0m in \u001b[0;36m<module>\u001b[0;34m\u001b[0m\n\u001b[1;32m      6\u001b[0m \u001b[0;32mfor\u001b[0m \u001b[0mi\u001b[0m \u001b[0;32min\u001b[0m \u001b[0mrange\u001b[0m\u001b[0;34m(\u001b[0m\u001b[0;36m0\u001b[0m\u001b[0;34m,\u001b[0m\u001b[0;36m4\u001b[0m\u001b[0;34m)\u001b[0m\u001b[0;34m:\u001b[0m\u001b[0;34m\u001b[0m\u001b[0;34m\u001b[0m\u001b[0m\n\u001b[1;32m      7\u001b[0m   \u001b[0;32mif\u001b[0m \u001b[0mmode\u001b[0m\u001b[0;34m[\u001b[0m\u001b[0mi\u001b[0m\u001b[0;34m]\u001b[0m\u001b[0;34m==\u001b[0m\u001b[0mm\u001b[0m\u001b[0;34m:\u001b[0m\u001b[0;34m\u001b[0m\u001b[0;34m\u001b[0m\u001b[0m\n\u001b[0;32m----> 8\u001b[0;31m     \u001b[0mbn\u001b[0m\u001b[0;34m=\u001b[0m\u001b[0minput\u001b[0m\u001b[0;34m(\u001b[0m\u001b[0;34m\"Enter the bank name:\"\u001b[0m\u001b[0;34m)\u001b[0m\u001b[0;34m\u001b[0m\u001b[0;34m\u001b[0m\u001b[0m\n\u001b[0m\u001b[1;32m      9\u001b[0m     \u001b[0mdt\u001b[0m\u001b[0;34m=\u001b[0m\u001b[0minput\u001b[0m\u001b[0;34m(\u001b[0m\u001b[0;34m\"enter the pin:\"\u001b[0m\u001b[0;34m)\u001b[0m\u001b[0;34m\u001b[0m\u001b[0;34m\u001b[0m\u001b[0m\n\u001b[1;32m     10\u001b[0m     \u001b[0mamt\u001b[0m\u001b[0;34m=\u001b[0m\u001b[0mint\u001b[0m\u001b[0;34m(\u001b[0m\u001b[0minput\u001b[0m\u001b[0;34m(\u001b[0m\u001b[0;34m\"Enter the amount\"\u001b[0m\u001b[0;34m)\u001b[0m\u001b[0;34m)\u001b[0m\u001b[0;34m\u001b[0m\u001b[0;34m\u001b[0m\u001b[0m\n",
            "\u001b[0;32m/usr/local/lib/python3.7/dist-packages/ipykernel/kernelbase.py\u001b[0m in \u001b[0;36mraw_input\u001b[0;34m(self, prompt)\u001b[0m\n\u001b[1;32m    861\u001b[0m             \u001b[0mself\u001b[0m\u001b[0;34m.\u001b[0m\u001b[0m_parent_ident\u001b[0m\u001b[0;34m,\u001b[0m\u001b[0;34m\u001b[0m\u001b[0;34m\u001b[0m\u001b[0m\n\u001b[1;32m    862\u001b[0m             \u001b[0mself\u001b[0m\u001b[0;34m.\u001b[0m\u001b[0m_parent_header\u001b[0m\u001b[0;34m,\u001b[0m\u001b[0;34m\u001b[0m\u001b[0;34m\u001b[0m\u001b[0m\n\u001b[0;32m--> 863\u001b[0;31m             \u001b[0mpassword\u001b[0m\u001b[0;34m=\u001b[0m\u001b[0;32mFalse\u001b[0m\u001b[0;34m,\u001b[0m\u001b[0;34m\u001b[0m\u001b[0;34m\u001b[0m\u001b[0m\n\u001b[0m\u001b[1;32m    864\u001b[0m         )\n\u001b[1;32m    865\u001b[0m \u001b[0;34m\u001b[0m\u001b[0m\n",
            "\u001b[0;32m/usr/local/lib/python3.7/dist-packages/ipykernel/kernelbase.py\u001b[0m in \u001b[0;36m_input_request\u001b[0;34m(self, prompt, ident, parent, password)\u001b[0m\n\u001b[1;32m    902\u001b[0m             \u001b[0;32mexcept\u001b[0m \u001b[0mKeyboardInterrupt\u001b[0m\u001b[0;34m:\u001b[0m\u001b[0;34m\u001b[0m\u001b[0;34m\u001b[0m\u001b[0m\n\u001b[1;32m    903\u001b[0m                 \u001b[0;31m# re-raise KeyboardInterrupt, to truncate traceback\u001b[0m\u001b[0;34m\u001b[0m\u001b[0;34m\u001b[0m\u001b[0;34m\u001b[0m\u001b[0m\n\u001b[0;32m--> 904\u001b[0;31m                 \u001b[0;32mraise\u001b[0m \u001b[0mKeyboardInterrupt\u001b[0m\u001b[0;34m(\u001b[0m\u001b[0;34m\"Interrupted by user\"\u001b[0m\u001b[0;34m)\u001b[0m \u001b[0;32mfrom\u001b[0m \u001b[0;32mNone\u001b[0m\u001b[0;34m\u001b[0m\u001b[0;34m\u001b[0m\u001b[0m\n\u001b[0m\u001b[1;32m    905\u001b[0m             \u001b[0;32mexcept\u001b[0m \u001b[0mException\u001b[0m \u001b[0;32mas\u001b[0m \u001b[0me\u001b[0m\u001b[0;34m:\u001b[0m\u001b[0;34m\u001b[0m\u001b[0;34m\u001b[0m\u001b[0m\n\u001b[1;32m    906\u001b[0m                 \u001b[0mself\u001b[0m\u001b[0;34m.\u001b[0m\u001b[0mlog\u001b[0m\u001b[0;34m.\u001b[0m\u001b[0mwarning\u001b[0m\u001b[0;34m(\u001b[0m\u001b[0;34m\"Invalid Message:\"\u001b[0m\u001b[0;34m,\u001b[0m \u001b[0mexc_info\u001b[0m\u001b[0;34m=\u001b[0m\u001b[0;32mTrue\u001b[0m\u001b[0;34m)\u001b[0m\u001b[0;34m\u001b[0m\u001b[0;34m\u001b[0m\u001b[0m\n",
            "\u001b[0;31mKeyboardInterrupt\u001b[0m: Interrupted by user"
          ]
        }
      ],
      "source": [
        "#taking the payment mode option from user\n",
        "mode=['paytm','netbanking','googlepay','cash']\n",
        "print(\"available modes:\",mode)\n",
        "m=input(\"Enter the payment mode:\")\n",
        "#defining the different payment modes using if else\n",
        "for i in range(0,4):\n",
        "  if mode[i]==m:\n",
        "    bn=input(\"Enter the bank name:\")\n",
        "    dt=input(\"enter the pin:\")\n",
        "    amt=int(input(\"Enter the amount\"))\n",
        "    print(\"The amount is payed\")"
      ]
    },
    {
      "cell_type": "markdown",
      "metadata": {
        "id": "Uvllh8bZXdDw"
      },
      "source": [
        "19)Write a program that calculate the tax rate of that item?"
      ]
    },
    {
      "cell_type": "code",
      "execution_count": null,
      "metadata": {
        "id": "QfR0jmskVsOO"
      },
      "outputs": [],
      "source": [
        "item=input(\"Enter item name :\")\n",
        "sp_cost=float(input(\"How much is selling price of item:\"))\n",
        "gst_rate=float(input(\"What is GST rate %\"))\n",
        "cgst=sp_cost*((gst_rate/2)/100)\n",
        "sgst=cgst\n",
        "amt=cgst*sgst\n",
        "print(\"tax rate of the item is:Rs.\",amt)"
      ]
    },
    {
      "cell_type": "markdown",
      "metadata": {
        "id": "fPi4VEV3VyHN"
      },
      "source": [
        "20)Write a program to calculate the bill of various items shopped by customer including all taxes"
      ]
    },
    {
      "cell_type": "code",
      "execution_count": null,
      "metadata": {
        "colab": {
          "base_uri": "https://localhost:8080/"
        },
        "id": "6ni-qMmSVsWs",
        "outputId": "e996c2da-70c5-47d0-9b46-b5ea7a08714a"
      },
      "outputs": [
        {
          "name": "stdout",
          "output_type": "stream",
          "text": [
            "Enter the no of items bought:3\n",
            "Enter the item name:bag\n",
            "Enter the item price:300\n",
            "Enter the item name:soap\n",
            "Enter the item price:30\n",
            "Enter the item name:ring\n",
            "Enter the item price:3000\n",
            "Total amount of shopping: 3929.4\n"
          ]
        }
      ],
      "source": [
        "#taking input of no of items bought from user\n",
        "noofproducts=int(input(\"Enter the no of items bought:\"))\n",
        "totalbill=0\n",
        "#Taking the item and its price from user using for loop\n",
        "for i in range(0,noofproducts):\n",
        " pn=input(\"Enter the item name:\")\n",
        " pr=int(input(\"Enter the item price:\"))\n",
        " tax=pr*0.18\n",
        " totalbill=pr+tax+totalbill #caluclating the total bill\n",
        "print(\"Total amount of shopping:\",totalbill) #printing the total amount of shopping"
      ]
    },
    {
      "cell_type": "markdown",
      "source": [
        "20)"
      ],
      "metadata": {
        "id": "PuFOzOsybIoo"
      }
    },
    {
      "cell_type": "code",
      "source": [
        "shop=('pasta','bag','book','vegetables','fruits','chips')\n",
        "print(\"The list of items:\",shop)\n",
        "choice=input(\"Enter the item whose place you want to know: \")\n",
        "for i in shop:\n",
        "  if (type(i) is str and choice == i):\n",
        "    print(shop.index(i))\n"
      ],
      "metadata": {
        "colab": {
          "base_uri": "https://localhost:8080/"
        },
        "id": "dGUkkb8lbHZx",
        "outputId": "390cf365-0278-4f5e-851a-4c39bdfc020b"
      },
      "execution_count": null,
      "outputs": [
        {
          "output_type": "stream",
          "name": "stdout",
          "text": [
            "The list of items: ('pasta', 'bag', 'book', 'vegetables', 'fruits', 'chips')\n",
            "Enter the item whose place you want to know: book\n",
            "2\n"
          ]
        }
      ]
    },
    {
      "cell_type": "code",
      "source": [
        "shop=('pasta','bag','book','vegetables','fruits','chips')\n",
        "shop"
      ],
      "metadata": {
        "id": "DLd7pMH1ezRK",
        "colab": {
          "base_uri": "https://localhost:8080/"
        },
        "outputId": "1ba92a18-5a0a-46d6-aba1-97098cc5e40e"
      },
      "execution_count": null,
      "outputs": [
        {
          "output_type": "execute_result",
          "data": {
            "text/plain": [
              "('pasta', 'bag', 'book', 'vegetables', 'fruits', 'chips')"
            ]
          },
          "metadata": {},
          "execution_count": 38
        }
      ]
    },
    {
      "cell_type": "code",
      "source": [
        "type(shop)"
      ],
      "metadata": {
        "colab": {
          "base_uri": "https://localhost:8080/"
        },
        "id": "4Ckqee0kTe7l",
        "outputId": "5d056351-9782-46fe-a63b-2cdcabe39493"
      },
      "execution_count": null,
      "outputs": [
        {
          "output_type": "execute_result",
          "data": {
            "text/plain": [
              "tuple"
            ]
          },
          "metadata": {},
          "execution_count": 47
        }
      ]
    },
    {
      "cell_type": "code",
      "source": [
        "for i in shop:\n",
        "  if (type(i) is str):\n",
        "    print(shop.index(i))"
      ],
      "metadata": {
        "id": "d9DXKjG4bmMe",
        "colab": {
          "base_uri": "https://localhost:8080/"
        },
        "outputId": "f02a9d3d-9ee8-4657-cf40-d7ec159dd53c"
      },
      "execution_count": null,
      "outputs": [
        {
          "output_type": "stream",
          "name": "stdout",
          "text": [
            "0\n",
            "1\n",
            "2\n",
            "3\n",
            "4\n",
            "5\n"
          ]
        }
      ]
    },
    {
      "cell_type": "code",
      "source": [],
      "metadata": {
        "id": "Sxa6txH-SrBT"
      },
      "execution_count": null,
      "outputs": []
    }
  ],
  "metadata": {
    "colab": {
      "provenance": [],
      "authorship_tag": "ABX9TyOw7bY7jxnSIiuLA0BGUvnd",
      "include_colab_link": true
    },
    "kernelspec": {
      "display_name": "Python 3",
      "name": "python3"
    },
    "language_info": {
      "name": "python"
    }
  },
  "nbformat": 4,
  "nbformat_minor": 0
}