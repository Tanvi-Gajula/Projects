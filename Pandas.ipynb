{
  "nbformat": 4,
  "nbformat_minor": 0,
  "metadata": {
    "colab": {
      "provenance": [],
      "authorship_tag": "ABX9TyNrFDy+PvP/ed17nLw7Lk8y",
      "include_colab_link": true
    },
    "kernelspec": {
      "name": "python3",
      "display_name": "Python 3"
    },
    "language_info": {
      "name": "python"
    }
  },
  "cells": [
    {
      "cell_type": "markdown",
      "metadata": {
        "id": "view-in-github",
        "colab_type": "text"
      },
      "source": [
        "<a href=\"https://colab.research.google.com/github/Tanvi-Gajula/Projects/blob/main/Pandas.ipynb\" target=\"_parent\"><img src=\"https://colab.research.google.com/assets/colab-badge.svg\" alt=\"Open In Colab\"/></a>"
      ]
    },
    {
      "cell_type": "markdown",
      "source": [
        "Name: Tanvi Gajula\n",
        "Reg no: 21MIA1076"
      ],
      "metadata": {
        "id": "_mXxlAtMcSXY"
      }
    },
    {
      "cell_type": "markdown",
      "source": [
        "1)Create a data frame for the stocks that are available in the shop by using pandas?"
      ],
      "metadata": {
        "id": "a6EWux-3mV4E"
      }
    },
    {
      "cell_type": "code",
      "source": [
        "import numpy as np\n",
        "import pandas as pd\n",
        "#creation of list\n",
        "data2=['tops','jeans','kurtis','suit','sarree']\n",
        "#create a dataframe from list\n",
        "df2=pd.DataFrame(data2,columns=[\"Items\"])\n",
        "print(\"Dataframe:\")\n",
        "print(df2)"
      ],
      "metadata": {
        "colab": {
          "base_uri": "https://localhost:8080/"
        },
        "id": "n1plwkNMmSLb",
        "outputId": "c1b88594-2d64-4374-e22f-c637a1414b28"
      },
      "execution_count": null,
      "outputs": [
        {
          "output_type": "stream",
          "name": "stdout",
          "text": [
            "Dataframe:\n",
            "    Items\n",
            "0    tops\n",
            "1   jeans\n",
            "2  kurtis\n",
            "3    suit\n",
            "4  sarree\n"
          ]
        }
      ]
    },
    {
      "cell_type": "markdown",
      "source": [
        "2)create a data frame of all the items with their cost by using pandas?"
      ],
      "metadata": {
        "id": "pAwO_5Rcmgwl"
      }
    },
    {
      "cell_type": "code",
      "source": [
        "#creation of list on lists\n",
        "data3=[[\"suit\",700],[\"tops\",500],[\"jeans\",1000],[\"frocks\",800]]\n",
        "df3=pd.DataFrame(data3,columns=[\"Items\",\"Rate\"])\n",
        "print(df3)"
      ],
      "metadata": {
        "colab": {
          "base_uri": "https://localhost:8080/"
        },
        "id": "NK7wEWLJmSe6",
        "outputId": "22fdd62f-bed8-45cb-cfa8-2a3e4bfe3f02"
      },
      "execution_count": null,
      "outputs": [
        {
          "output_type": "stream",
          "name": "stdout",
          "text": [
            "    Items  Rate\n",
            "0    suit   700\n",
            "1    tops   500\n",
            "2   jeans  1000\n",
            "3  frocks   800\n"
          ]
        }
      ]
    },
    {
      "cell_type": "markdown",
      "source": [
        "3)create a data frame where you have mention about the floor inforamtion of the items?"
      ],
      "metadata": {
        "id": "XTJzlb6pmn7Y"
      }
    },
    {
      "cell_type": "code",
      "source": [
        "#naming the index\n",
        "#adding 2 list seperatly\n",
        "data4={\"Items\":[\"tops\",\"jeans\",\"suit\",\"shirts\"]}\n",
        "df4=pd.DataFrame(data4,index=[\"floor=1\",\"floor=2\",\"floor=3\",\"floor=4\"])\n",
        "print(df4)"
      ],
      "metadata": {
        "colab": {
          "base_uri": "https://localhost:8080/"
        },
        "id": "mom5BW4XmSvP",
        "outputId": "ba56d323-c53e-4389-f8a8-4b946baf599b"
      },
      "execution_count": null,
      "outputs": [
        {
          "output_type": "stream",
          "name": "stdout",
          "text": [
            "          Items\n",
            "floor=1    tops\n",
            "floor=2   jeans\n",
            "floor=3    suit\n",
            "floor=4  shirts\n"
          ]
        }
      ]
    },
    {
      "cell_type": "markdown",
      "source": [
        "4)Create a data frame and extract only price information by using pandas?"
      ],
      "metadata": {
        "id": "-2nzMDv-mwUz"
      }
    },
    {
      "cell_type": "code",
      "source": [
        "#selection of column from data frame\n",
        "data10 = {'Items' : pd.Series([\"tops\",\"jeans\",\"suit\",\"shirts\"], index=[1,2,3,4]),\n",
        "          'Price' : pd.Series([400,1000,800,500],index =[1,2,3,4])}\n",
        "f6=pd.DataFrame(data10)\n",
        "print(\"Price of the material are:\")   \n",
        "#only one column information  \n",
        "print(f6['Price'])"
      ],
      "metadata": {
        "colab": {
          "base_uri": "https://localhost:8080/"
        },
        "id": "NOuCv4kimTB_",
        "outputId": "d06682aa-a7af-40ce-a40f-a3cacf17a924"
      },
      "execution_count": null,
      "outputs": [
        {
          "output_type": "stream",
          "name": "stdout",
          "text": [
            "Price of the material are:\n",
            "1     400\n",
            "2    1000\n",
            "3     800\n",
            "4     500\n",
            "Name: Price, dtype: int64\n"
          ]
        }
      ]
    },
    {
      "cell_type": "markdown",
      "source": [
        "5) Add new information in the above data frame where gender information is also given that whether its available for both or for one only?"
      ],
      "metadata": {
        "id": "R0pbnTTfm58U"
      }
    },
    {
      "cell_type": "code",
      "source": [
        "#addtion of new column\n",
        "data10 = {'Items' : pd.Series([\"tops\",\"jeans\",\"suit\",\"shirts\"], index=[1,2,3,4]),\n",
        "          'Price' : pd.Series([400,1000,800,500],index =[1,2,3,4])}\n",
        "f6=pd.DataFrame(data10)\n",
        "print(f6)\n",
        "#adding new column\n",
        "print(\"adding a new column by passing as series:\")\n",
        "f6['Gender']=pd.Series([\"F\",\"M&F\",\"F\",\"M\"],index =[1,2,3,4])\n",
        "print(f6)"
      ],
      "metadata": {
        "colab": {
          "base_uri": "https://localhost:8080/"
        },
        "id": "TFZsH1OumTOM",
        "outputId": "38483369-2d59-44c3-c649-aeb50da88d40"
      },
      "execution_count": null,
      "outputs": [
        {
          "output_type": "stream",
          "name": "stdout",
          "text": [
            "    Items  Price\n",
            "1    tops    400\n",
            "2   jeans   1000\n",
            "3    suit    800\n",
            "4  shirts    500\n",
            "adding a new column by passing as series:\n",
            "    Items  Price Gender\n",
            "1    tops    400      F\n",
            "2   jeans   1000    M&F\n",
            "3    suit    800      F\n",
            "4  shirts    500      M\n"
          ]
        }
      ]
    },
    {
      "cell_type": "markdown",
      "source": [
        "6)By using pandas delete the information about the gender in the above data frame?"
      ],
      "metadata": {
        "id": "zBFv-J5gnQmm"
      }
    },
    {
      "cell_type": "code",
      "source": [
        "print(\"deleting the Gender column using pop function:\")\n",
        "#using the pop function for the deletion of the gender information in the data frame \n",
        "f6.pop(\"Gender\")\n",
        "print(f6)"
      ],
      "metadata": {
        "colab": {
          "base_uri": "https://localhost:8080/"
        },
        "id": "oz1BEEQOmTbV",
        "outputId": "be8b1d69-53ba-4c84-f046-4cdc97af2441"
      },
      "execution_count": null,
      "outputs": [
        {
          "output_type": "stream",
          "name": "stdout",
          "text": [
            "deleting the Gender column using pop function:\n",
            "    Items  Price\n",
            "1    tops    400\n",
            "2   jeans   1000\n",
            "3    suit    800\n",
            "4  shirts    500\n"
          ]
        }
      ]
    },
    {
      "cell_type": "markdown",
      "source": [
        "7)By using pandas you have created the data frame where you have write all the information of all the customer requirement by using some function retrieve the particular customer information?"
      ],
      "metadata": {
        "id": "pXf5nXirnWw1"
      }
    },
    {
      "cell_type": "code",
      "source": [
        "#selection by label\n",
        "data7={\"Item\":pd.Series([\"tops\",\"jeans\",\"shirts\"],index=[\"siya\",\"riya\",\"jatin\"]),\n",
        "       \"colour\":pd.Series([\"yellow\",\"black\",\"white\"],index=[\"siya\",\"riya\",\"jatin\"]),\n",
        "       \"size\":pd.Series([\"medium\",\"small\",\"large\"],index=[\"siya\",\"riya\",\"jatin\"]),\n",
        "       \"range\":pd.Series([400,1500,2000],index=[\"siya\",\"riya\",\"jatin\"])}\n",
        "#printing of data frame \n",
        "df7=pd.DataFrame(data7)\n",
        "print(df7)\n",
        "print(\"Retriving data of riya\")\n",
        "#using loc function for extraxting the particular customer information\n",
        "print(df7.loc[\"riya\"])"
      ],
      "metadata": {
        "colab": {
          "base_uri": "https://localhost:8080/"
        },
        "id": "eI7BLCHimToE",
        "outputId": "f8b959b6-6bcf-4cc5-b810-61003ed821bb"
      },
      "execution_count": null,
      "outputs": [
        {
          "output_type": "stream",
          "name": "stdout",
          "text": [
            "         Item  colour    size  range\n",
            "siya     tops  yellow  medium    400\n",
            "riya    jeans   black   small   1500\n",
            "jatin  shirts   white   large   2000\n",
            "Retriving data of riya\n",
            "Item      jeans\n",
            "colour    black\n",
            "size      small\n",
            "range      1500\n",
            "Name: riya, dtype: object\n"
          ]
        }
      ]
    },
    {
      "cell_type": "markdown",
      "source": [
        "8)By using slicing function extract riya and jatin information from the above data frame?"
      ],
      "metadata": {
        "id": "okUBJTsEneQg"
      }
    },
    {
      "cell_type": "code",
      "source": [
        "#getting information with slicing\n",
        "print(\"details of all the riya and jatin:\")\n",
        "print(df7[1:3])"
      ],
      "metadata": {
        "colab": {
          "base_uri": "https://localhost:8080/"
        },
        "id": "9fKHSN7UmT0H",
        "outputId": "f9fda958-f850-4fa8-d3bf-1d3bda1f3d8a"
      },
      "execution_count": null,
      "outputs": [
        {
          "output_type": "stream",
          "name": "stdout",
          "text": [
            "details of all the riya and jatin:\n",
            "         Item colour   size  range\n",
            "riya    jeans  black  small   1500\n",
            "jatin  shirts  white  large   2000\n"
          ]
        }
      ]
    },
    {
      "cell_type": "markdown",
      "source": [
        "9)Create a data frame where person had bought two material write the total price of that two material as a new column?"
      ],
      "metadata": {
        "id": "lvi5FQiunk3G"
      }
    },
    {
      "cell_type": "code",
      "source": [
        "data10 = {'item-1' : pd.Series([1000,1500,2000], index=['siya','ram','riya']),\n",
        "          'item-2' :pd.Series([4000,3000,1000],index =['siya','ram','riya'])}\n",
        "f6=pd.DataFrame(data10)\n",
        "print(f6)          \n",
        "#addtion function\n",
        "print(\"addtion of new column with the adding of two existing column:\")\n",
        "f6['Total']=f6['item-1']+f6['item-2']\n",
        "print(f6)"
      ],
      "metadata": {
        "colab": {
          "base_uri": "https://localhost:8080/"
        },
        "id": "Kbga8O4ImUBn",
        "outputId": "0fd31b7a-6a7a-43bc-95f2-b7960b653074"
      },
      "execution_count": null,
      "outputs": [
        {
          "output_type": "stream",
          "name": "stdout",
          "text": [
            "      item-1  item-2\n",
            "siya    1000    4000\n",
            "ram     1500    3000\n",
            "riya    2000    1000\n",
            "addtion of new column with the adding of two existing column:\n",
            "      item-1  item-2  Total\n",
            "siya    1000    4000   5000\n",
            "ram     1500    3000   4500\n",
            "riya    2000    1000   3000\n"
          ]
        }
      ]
    },
    {
      "cell_type": "markdown",
      "source": [
        "10)By using head function extract suit and tops information from the data frame?"
      ],
      "metadata": {
        "id": "PJ_a59VKnsit"
      }
    },
    {
      "cell_type": "code",
      "source": [
        "#creation of list on lists\n",
        "data3=[[\"suit\",700],[\"tops\",500],[\"jeans\",1000],[\"frocks\",800]]\n",
        "df3=pd.DataFrame(data3,columns=[\"Items\",\"Rate\"])\n",
        "print(df3)\n",
        "#using hrad function\n",
        "df3.head(2)"
      ],
      "metadata": {
        "colab": {
          "base_uri": "https://localhost:8080/",
          "height": 203
        },
        "id": "TnPfSxNymUOF",
        "outputId": "22cb0d7c-bab9-4c65-e713-70b28d25d9b3"
      },
      "execution_count": null,
      "outputs": [
        {
          "output_type": "stream",
          "name": "stdout",
          "text": [
            "    Items  Rate\n",
            "0    suit   700\n",
            "1    tops   500\n",
            "2   jeans  1000\n",
            "3  frocks   800\n"
          ]
        },
        {
          "output_type": "execute_result",
          "data": {
            "text/plain": [
              "  Items  Rate\n",
              "0  suit   700\n",
              "1  tops   500"
            ],
            "text/html": [
              "\n",
              "  <div id=\"df-ac910336-3f53-41e7-8cba-bf61a1ba96b9\">\n",
              "    <div class=\"colab-df-container\">\n",
              "      <div>\n",
              "<style scoped>\n",
              "    .dataframe tbody tr th:only-of-type {\n",
              "        vertical-align: middle;\n",
              "    }\n",
              "\n",
              "    .dataframe tbody tr th {\n",
              "        vertical-align: top;\n",
              "    }\n",
              "\n",
              "    .dataframe thead th {\n",
              "        text-align: right;\n",
              "    }\n",
              "</style>\n",
              "<table border=\"1\" class=\"dataframe\">\n",
              "  <thead>\n",
              "    <tr style=\"text-align: right;\">\n",
              "      <th></th>\n",
              "      <th>Items</th>\n",
              "      <th>Rate</th>\n",
              "    </tr>\n",
              "  </thead>\n",
              "  <tbody>\n",
              "    <tr>\n",
              "      <th>0</th>\n",
              "      <td>suit</td>\n",
              "      <td>700</td>\n",
              "    </tr>\n",
              "    <tr>\n",
              "      <th>1</th>\n",
              "      <td>tops</td>\n",
              "      <td>500</td>\n",
              "    </tr>\n",
              "  </tbody>\n",
              "</table>\n",
              "</div>\n",
              "      <button class=\"colab-df-convert\" onclick=\"convertToInteractive('df-ac910336-3f53-41e7-8cba-bf61a1ba96b9')\"\n",
              "              title=\"Convert this dataframe to an interactive table.\"\n",
              "              style=\"display:none;\">\n",
              "        \n",
              "  <svg xmlns=\"http://www.w3.org/2000/svg\" height=\"24px\"viewBox=\"0 0 24 24\"\n",
              "       width=\"24px\">\n",
              "    <path d=\"M0 0h24v24H0V0z\" fill=\"none\"/>\n",
              "    <path d=\"M18.56 5.44l.94 2.06.94-2.06 2.06-.94-2.06-.94-.94-2.06-.94 2.06-2.06.94zm-11 1L8.5 8.5l.94-2.06 2.06-.94-2.06-.94L8.5 2.5l-.94 2.06-2.06.94zm10 10l.94 2.06.94-2.06 2.06-.94-2.06-.94-.94-2.06-.94 2.06-2.06.94z\"/><path d=\"M17.41 7.96l-1.37-1.37c-.4-.4-.92-.59-1.43-.59-.52 0-1.04.2-1.43.59L10.3 9.45l-7.72 7.72c-.78.78-.78 2.05 0 2.83L4 21.41c.39.39.9.59 1.41.59.51 0 1.02-.2 1.41-.59l7.78-7.78 2.81-2.81c.8-.78.8-2.07 0-2.86zM5.41 20L4 18.59l7.72-7.72 1.47 1.35L5.41 20z\"/>\n",
              "  </svg>\n",
              "      </button>\n",
              "      \n",
              "  <style>\n",
              "    .colab-df-container {\n",
              "      display:flex;\n",
              "      flex-wrap:wrap;\n",
              "      gap: 12px;\n",
              "    }\n",
              "\n",
              "    .colab-df-convert {\n",
              "      background-color: #E8F0FE;\n",
              "      border: none;\n",
              "      border-radius: 50%;\n",
              "      cursor: pointer;\n",
              "      display: none;\n",
              "      fill: #1967D2;\n",
              "      height: 32px;\n",
              "      padding: 0 0 0 0;\n",
              "      width: 32px;\n",
              "    }\n",
              "\n",
              "    .colab-df-convert:hover {\n",
              "      background-color: #E2EBFA;\n",
              "      box-shadow: 0px 1px 2px rgba(60, 64, 67, 0.3), 0px 1px 3px 1px rgba(60, 64, 67, 0.15);\n",
              "      fill: #174EA6;\n",
              "    }\n",
              "\n",
              "    [theme=dark] .colab-df-convert {\n",
              "      background-color: #3B4455;\n",
              "      fill: #D2E3FC;\n",
              "    }\n",
              "\n",
              "    [theme=dark] .colab-df-convert:hover {\n",
              "      background-color: #434B5C;\n",
              "      box-shadow: 0px 1px 3px 1px rgba(0, 0, 0, 0.15);\n",
              "      filter: drop-shadow(0px 1px 2px rgba(0, 0, 0, 0.3));\n",
              "      fill: #FFFFFF;\n",
              "    }\n",
              "  </style>\n",
              "\n",
              "      <script>\n",
              "        const buttonEl =\n",
              "          document.querySelector('#df-ac910336-3f53-41e7-8cba-bf61a1ba96b9 button.colab-df-convert');\n",
              "        buttonEl.style.display =\n",
              "          google.colab.kernel.accessAllowed ? 'block' : 'none';\n",
              "\n",
              "        async function convertToInteractive(key) {\n",
              "          const element = document.querySelector('#df-ac910336-3f53-41e7-8cba-bf61a1ba96b9');\n",
              "          const dataTable =\n",
              "            await google.colab.kernel.invokeFunction('convertToInteractive',\n",
              "                                                     [key], {});\n",
              "          if (!dataTable) return;\n",
              "\n",
              "          const docLinkHtml = 'Like what you see? Visit the ' +\n",
              "            '<a target=\"_blank\" href=https://colab.research.google.com/notebooks/data_table.ipynb>data table notebook</a>'\n",
              "            + ' to learn more about interactive tables.';\n",
              "          element.innerHTML = '';\n",
              "          dataTable['output_type'] = 'display_data';\n",
              "          await google.colab.output.renderOutput(dataTable, element);\n",
              "          const docLink = document.createElement('div');\n",
              "          docLink.innerHTML = docLinkHtml;\n",
              "          element.appendChild(docLink);\n",
              "        }\n",
              "      </script>\n",
              "    </div>\n",
              "  </div>\n",
              "  "
            ]
          },
          "metadata": {},
          "execution_count": 10
        }
      ]
    },
    {
      "cell_type": "markdown",
      "source": [
        "11)Create a dataframe of places with the famous places of shopping"
      ],
      "metadata": {
        "id": "TryU3Y-3cRn5"
      }
    },
    {
      "cell_type": "code",
      "execution_count": null,
      "metadata": {
        "colab": {
          "base_uri": "https://localhost:8080/"
        },
        "id": "Loe5omDQcKd-",
        "outputId": "e8f922b8-0436-4d0f-9879-550be162d39d"
      },
      "outputs": [
        {
          "output_type": "stream",
          "name": "stdout",
          "text": [
            "      Cities          Places\n",
            "0     Mumbai  Fashion street\n",
            "1      Delhi  Sarojini nagar\n",
            "2  Hyderabad       Charminar\n"
          ]
        }
      ],
      "source": [
        "# Define a dictionary containing shopping details\n",
        "mydataset = {\n",
        "  'Cities': [\"Mumbai\", \"Delhi\", \"Hyderabad\"],\n",
        "  'Places': [\"Fashion street\", \"Sarojini nagar\", \"Charminar\"]\n",
        "}\n",
        "# Convert the dictionary into DataFrame \n",
        "myvar = pd.DataFrame(mydataset)\n",
        "\n",
        "print(myvar)"
      ]
    },
    {
      "cell_type": "markdown",
      "source": [
        "12)Analyze the datatype of shopping prices using pandas"
      ],
      "metadata": {
        "id": "QkM4LfpUeDjP"
      }
    },
    {
      "cell_type": "code",
      "source": [
        "#Creation of List\n",
        "a = [111.2, 700.0, 231.1]\n",
        "#Creation of Series\n",
        "myvar = pd.Series(a)\n",
        "print(myvar)"
      ],
      "metadata": {
        "colab": {
          "base_uri": "https://localhost:8080/"
        },
        "id": "R5UfLkaUeC65",
        "outputId": "769c57c3-d157-47dc-c0a7-455131aa92e1"
      },
      "execution_count": null,
      "outputs": [
        {
          "output_type": "stream",
          "name": "stdout",
          "text": [
            "0    111.2\n",
            "1    700.0\n",
            "2    231.1\n",
            "dtype: float64\n"
          ]
        }
      ]
    },
    {
      "cell_type": "markdown",
      "source": [
        "13)create a dataframe using pandas to display the items and its brand with their index"
      ],
      "metadata": {
        "id": "lSv5KiU5gi1Y"
      }
    },
    {
      "cell_type": "code",
      "source": [
        "#Creation of DataFrame\n",
        "data6={\n",
        "    \"item\":pd.Series([\"Top\",\"Eyeliner\",\"Kurti\"],index=[1,2,3]),\n",
        "    \"brand\":pd.Series([\"Max\",\"Maybaleen\",\"lifestyle\"],index=[1,2,3])\n",
        "       }\n",
        "# Convert the dictionary into DataFrame \n",
        "df6=pd.DataFrame(data6)\n",
        "print(df6)"
      ],
      "metadata": {
        "colab": {
          "base_uri": "https://localhost:8080/"
        },
        "id": "guxOjgwagiRB",
        "outputId": "72bd34f4-0494-4770-ecfd-0a2fdc92bd86"
      },
      "execution_count": null,
      "outputs": [
        {
          "output_type": "stream",
          "name": "stdout",
          "text": [
            "       item      brand\n",
            "1       Top        Max\n",
            "2  Eyeliner  Maybaleen\n",
            "3     Kurti  lifestyle\n"
          ]
        }
      ]
    },
    {
      "cell_type": "markdown",
      "source": [
        "14)Display the brand of Eyeliner"
      ],
      "metadata": {
        "id": "AkFP6xeUiDpf"
      }
    },
    {
      "cell_type": "code",
      "source": [
        "#Printing the specificed item by index\n",
        "print(df6.loc[2])"
      ],
      "metadata": {
        "colab": {
          "base_uri": "https://localhost:8080/"
        },
        "id": "Yn2BKymriC64",
        "outputId": "920d9172-3806-4df9-d386-a67a4e70977c"
      },
      "execution_count": null,
      "outputs": [
        {
          "output_type": "stream",
          "name": "stdout",
          "text": [
            "item      Eyeliner\n",
            "brand    Maybaleen\n",
            "Name: 2, dtype: object\n"
          ]
        }
      ]
    },
    {
      "cell_type": "markdown",
      "source": [
        "15)Create a DataFrame of the shopping details usingt pandas and display item and prices of shopping"
      ],
      "metadata": {
        "id": "xk-NElb1i_ff"
      }
    },
    {
      "cell_type": "code",
      "source": [
        "# Define a dictionary containing employee data\n",
        "data = {'Names':['Jai', 'Princi', 'Gaurav', 'Anuj'],\n",
        "        'prices':[322, 254, 229, 320],\n",
        "        'Shopping places':['Delhi', 'Kanpur', 'Allahabad', 'Kannauj'],\n",
        "        'items':['Silk Saree', 'Garments', 'Sandalwood', 'rose-water']}\n",
        " \n",
        "# Convert the dictionary into DataFrame \n",
        "df = pd.DataFrame(data)\n",
        " \n",
        "# select two columns\n",
        "print(df[['items', 'prices']])"
      ],
      "metadata": {
        "colab": {
          "base_uri": "https://localhost:8080/"
        },
        "id": "mcG0ljRji-rR",
        "outputId": "1b7399a0-164e-4cde-ce6b-a0976ece475d"
      },
      "execution_count": null,
      "outputs": [
        {
          "output_type": "stream",
          "name": "stdout",
          "text": [
            "        items  prices\n",
            "0  Silk Saree     322\n",
            "1    Garments     254\n",
            "2  Sandalwood     229\n",
            "3  rose-water     320\n"
          ]
        }
      ]
    },
    {
      "cell_type": "markdown",
      "source": [
        "16)Create a DataFrame using pandas to know item quantity"
      ],
      "metadata": {
        "id": "k9-fj4qBlq5e"
      }
    },
    {
      "cell_type": "code",
      "source": [
        "s = pd.Series([1,2,3,4],index = ['bags','books','pens','pencils'])\n",
        "#retrieve the first three element\n",
        "print(s[:4])"
      ],
      "metadata": {
        "colab": {
          "base_uri": "https://localhost:8080/"
        },
        "id": "fQfxNRKSlqLp",
        "outputId": "184a3db0-b5c7-47d8-fcad-9bd8b9c692bb"
      },
      "execution_count": null,
      "outputs": [
        {
          "output_type": "stream",
          "name": "stdout",
          "text": [
            "bags       1\n",
            "books      2\n",
            "pens       3\n",
            "pencils    4\n",
            "dtype: int64\n"
          ]
        }
      ]
    },
    {
      "cell_type": "markdown",
      "source": [
        "17)Create a DataFrame using pandas of brand raks in india and its famous item"
      ],
      "metadata": {
        "id": "DIFy-c_nnAVP"
      }
    },
    {
      "cell_type": "code",
      "source": [
        "#Creation of DataFrame\n",
        "data = {\n",
        "    'Brand':['H and M', 'Lifestyle', 'Max', 'Zara'],'item':['Jeans','Kurtis','Tops','Jewelery']}\n",
        "# Convert the dictionary into DataFrame \n",
        "df = pd.DataFrame(data, index=['rank1','rank2','rank3','rank4'])\n",
        "print(df)"
      ],
      "metadata": {
        "colab": {
          "base_uri": "https://localhost:8080/"
        },
        "id": "vh-Ey9l2m_LQ",
        "outputId": "b9b43a81-5169-4afc-d90c-f53d6a3d9be9"
      },
      "execution_count": null,
      "outputs": [
        {
          "output_type": "stream",
          "name": "stdout",
          "text": [
            "           Brand      item\n",
            "rank1    H and M     Jeans\n",
            "rank2  Lifestyle    Kurtis\n",
            "rank3        Max      Tops\n",
            "rank4       Zara  Jewelery\n"
          ]
        }
      ]
    },
    {
      "cell_type": "markdown",
      "source": [
        "18)Randomly generating the prices of items using numpy and display the prices in tabular form using pandas"
      ],
      "metadata": {
        "id": "F5ORlj8UomXF"
      }
    },
    {
      "cell_type": "code",
      "source": [
        "#importing numpy\n",
        "import numpy as np\n",
        "# Convert the dictionary into DataFrame \n",
        "df1 = pd.DataFrame(np.random.randn(5, 3), index=[1, 2, 3, 4, 5],columns=['one', 'two', 'three'])\n",
        "print(df1)"
      ],
      "metadata": {
        "colab": {
          "base_uri": "https://localhost:8080/"
        },
        "id": "krjZQBZsolnw",
        "outputId": "647da063-879c-486d-9937-4d88f6ae03e1"
      },
      "execution_count": null,
      "outputs": [
        {
          "output_type": "stream",
          "name": "stdout",
          "text": [
            "        one       two     three\n",
            "1  1.890197 -0.003086 -0.420935\n",
            "2  0.903850  0.593094 -1.806005\n",
            "3  0.413319  0.279452 -0.133088\n",
            "4 -1.397939  0.700293  2.129857\n",
            "5  0.735588 -0.405687  0.106807\n"
          ]
        }
      ]
    },
    {
      "cell_type": "markdown",
      "source": [
        "19)Concatenate 2 DataFrames using pandas"
      ],
      "metadata": {
        "id": "nH900x3eqp-G"
      }
    },
    {
      "cell_type": "code",
      "source": [
        "\n",
        "#Creating 2 different DataFrames\n",
        "one = pd.DataFrame({\n",
        "   'Name': ['Alex', 'Amy', 'Allen', 'Alice'],\n",
        "    'prices':[322, 254, 229, 320],\n",
        "    'Shopping places':['Delhi', 'Kanpur', 'Allahabad', 'Kannauj'],\n",
        "    'items':['Silk Saree', 'Garments', 'Sandalwood', 'rose water']})\n",
        "\n",
        "two = pd.DataFrame({\n",
        "   'Name': ['Billy', 'Brian', 'Bran', 'Bryce'],\n",
        "   'prices':[500, 123, 465, 728],\n",
        "  'Shopping places':['Mumbai', 'Goa', 'Hyderabad', 'Chennai'],\n",
        "    'items':['Decor items', 'Sea Shells', 'lac bangles', 'Handbags']})\n",
        "#DataFrame Concatenation\n",
        "print(pd.concat([one,two]))"
      ],
      "metadata": {
        "colab": {
          "base_uri": "https://localhost:8080/"
        },
        "id": "Z23qijsBqnsI",
        "outputId": "5dca98cf-c456-4cd9-cb0f-e1da0110fc26"
      },
      "execution_count": null,
      "outputs": [
        {
          "output_type": "stream",
          "name": "stdout",
          "text": [
            "    Name  prices Shopping places        items\n",
            "0   Alex     322           Delhi   Silk Saree\n",
            "1    Amy     254          Kanpur     Garments\n",
            "2  Allen     229       Allahabad   Sandalwood\n",
            "3  Alice     320         Kannauj   rose water\n",
            "0  Billy     500          Mumbai  Decor items\n",
            "1  Brian     123             Goa   Sea Shells\n",
            "2   Bran     465       Hyderabad  lac bangles\n",
            "3  Bryce     728         Chennai     Handbags\n"
          ]
        }
      ]
    },
    {
      "cell_type": "markdown",
      "source": [
        "20)Display the Rack no and item using numpy and pandas"
      ],
      "metadata": {
        "id": "bzHrpWcks7AX"
      }
    },
    {
      "cell_type": "code",
      "source": [
        "#importing numpy\n",
        "import numpy as np\n",
        "data = np.array(['Bag','Bottle','Stationary','Grocery'])\n",
        "s = pd.Series(data,index=[11,15,22,6])\n",
        "print(s)"
      ],
      "metadata": {
        "colab": {
          "base_uri": "https://localhost:8080/"
        },
        "id": "1JtFJB5js6U4",
        "outputId": "ce0d002f-1fe4-4edf-bc4d-ae4344cc1ca8"
      },
      "execution_count": null,
      "outputs": [
        {
          "output_type": "stream",
          "name": "stdout",
          "text": [
            "11           Bag\n",
            "15        Bottle\n",
            "22    Stationary\n",
            "6        Grocery\n",
            "dtype: object\n"
          ]
        }
      ]
    }
  ]
}