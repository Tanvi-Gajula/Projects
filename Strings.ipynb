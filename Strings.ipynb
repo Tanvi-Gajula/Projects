{
  "nbformat": 4,
  "nbformat_minor": 0,
  "metadata": {
    "colab": {
      "provenance": [],
      "authorship_tag": "ABX9TyPAz//ztYS4wOF2bWPn9CGj",
      "include_colab_link": true
    },
    "kernelspec": {
      "name": "python3",
      "display_name": "Python 3"
    },
    "language_info": {
      "name": "python"
    }
  },
  "cells": [
    {
      "cell_type": "markdown",
      "metadata": {
        "id": "view-in-github",
        "colab_type": "text"
      },
      "source": [
        "<a href=\"https://colab.research.google.com/github/Tanvi-Gajula/Projects/blob/main/Strings.ipynb\" target=\"_parent\"><img src=\"https://colab.research.google.com/assets/colab-badge.svg\" alt=\"Open In Colab\"/></a>"
      ]
    },
    {
      "cell_type": "code",
      "execution_count": null,
      "metadata": {
        "colab": {
          "base_uri": "https://localhost:8080/"
        },
        "id": "ZG2nLTkEBJ3z",
        "outputId": "2073ddef-cd45-422a-b284-ef5039b765cb"
      },
      "outputs": [
        {
          "output_type": "stream",
          "name": "stdout",
          "text": [
            "s\n",
            "p\ta\u0000m\n"
          ]
        }
      ],
      "source": [
        "s='s\\np\\ta\\x00m'\n",
        "print(s)"
      ]
    },
    {
      "cell_type": "code",
      "source": [
        "s=\"\"\"An apple a day keeps the doctor away\"\"\"\n",
        "print(s)"
      ],
      "metadata": {
        "colab": {
          "base_uri": "https://localhost:8080/"
        },
        "id": "_XJ5G6BLC87f",
        "outputId": "49f8aac5-4d01-4ed7-c6f8-f1aa9a02c3d9"
      },
      "execution_count": null,
      "outputs": [
        {
          "output_type": "stream",
          "name": "stdout",
          "text": [
            "An apple a day keeps the doctor away\n"
          ]
        }
      ]
    },
    {
      "cell_type": "code",
      "source": [
        "#strings are array\n",
        "s=\"apple,mango\"\n",
        "print(s[0])"
      ],
      "metadata": {
        "colab": {
          "base_uri": "https://localhost:8080/"
        },
        "id": "A7y9DjNCDRwW",
        "outputId": "5261167f-da23-4d36-84f4-efd122c2d907"
      },
      "execution_count": null,
      "outputs": [
        {
          "output_type": "stream",
          "name": "stdout",
          "text": [
            "a\n"
          ]
        }
      ]
    },
    {
      "cell_type": "code",
      "source": [
        "#loop in strings\n",
        "for x in\"apple\":\n",
        "  print(x)"
      ],
      "metadata": {
        "colab": {
          "base_uri": "https://localhost:8080/"
        },
        "id": "bSnHwLtZDgEn",
        "outputId": "247dd535-412d-4245-fd49-c94087395400"
      },
      "execution_count": null,
      "outputs": [
        {
          "output_type": "stream",
          "name": "stdout",
          "text": [
            "a\n",
            "p\n",
            "p\n",
            "l\n",
            "e\n"
          ]
        }
      ]
    },
    {
      "cell_type": "code",
      "source": [
        "#length of strings\n",
        "s=\"VIT CHENNAI\"\n",
        "print(len(s))"
      ],
      "metadata": {
        "colab": {
          "base_uri": "https://localhost:8080/"
        },
        "id": "Nasg-PwPDuNG",
        "outputId": "73739b67-8f0e-4aea-f822-987f42b3320e"
      },
      "execution_count": null,
      "outputs": [
        {
          "output_type": "stream",
          "name": "stdout",
          "text": [
            "11\n"
          ]
        }
      ]
    },
    {
      "cell_type": "code",
      "source": [
        "#Check string\n",
        "a=\"Hello world\"\n",
        "print(\"Hello\" in a)"
      ],
      "metadata": {
        "colab": {
          "base_uri": "https://localhost:8080/"
        },
        "id": "HAZx_SvFD-2-",
        "outputId": "5ab7e930-4faa-42ca-c6ff-8a60c58b4198"
      },
      "execution_count": null,
      "outputs": [
        {
          "output_type": "stream",
          "name": "stdout",
          "text": [
            "True\n"
          ]
        }
      ]
    },
    {
      "cell_type": "code",
      "source": [
        "#Check if not there string\n",
        "a=\"Hello world\"\n",
        "print(\"hello\" not in a)"
      ],
      "metadata": {
        "colab": {
          "base_uri": "https://localhost:8080/"
        },
        "id": "8EWNCXKeEgzH",
        "outputId": "4e4b84b5-b863-4ed1-e17a-572bdac03ab9"
      },
      "execution_count": null,
      "outputs": [
        {
          "output_type": "stream",
          "name": "stdout",
          "text": [
            "True\n"
          ]
        }
      ]
    },
    {
      "cell_type": "code",
      "source": [
        "#Slicing the strings\n",
        "s=\"VIT CHENNAI\"\n",
        "print(s[1:5])\n",
        "print(s[:4])\n",
        "print(s[1:])"
      ],
      "metadata": {
        "colab": {
          "base_uri": "https://localhost:8080/"
        },
        "id": "uS_yTDtYEvhv",
        "outputId": "6d13762b-58dd-4f5d-d53e-3bbedfa15c74"
      },
      "execution_count": null,
      "outputs": [
        {
          "output_type": "stream",
          "name": "stdout",
          "text": [
            "IT C\n",
            "VIT \n",
            "IT CHENNAI\n"
          ]
        }
      ]
    },
    {
      "cell_type": "code",
      "source": [
        "#modify Strings\n",
        "s=\"Vit Chennai\"\n",
        "print(s.upper())\n",
        "print(s.lower())"
      ],
      "metadata": {
        "colab": {
          "base_uri": "https://localhost:8080/"
        },
        "id": "ET2jRi1pFKQu",
        "outputId": "6bb1da77-de4d-406e-b348-c7b56d5628e3"
      },
      "execution_count": null,
      "outputs": [
        {
          "output_type": "stream",
          "name": "stdout",
          "text": [
            "VIT CHENNAI\n",
            "vit chennai\n"
          ]
        }
      ]
    }
  ]
}