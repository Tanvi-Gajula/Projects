{
  "nbformat": 4,
  "nbformat_minor": 0,
  "metadata": {
    "colab": {
      "provenance": [],
      "authorship_tag": "ABX9TyNi235kFSC/0syEpr0EX1dS",
      "include_colab_link": true
    },
    "kernelspec": {
      "name": "python3",
      "display_name": "Python 3"
    },
    "language_info": {
      "name": "python"
    }
  },
  "cells": [
    {
      "cell_type": "markdown",
      "metadata": {
        "id": "view-in-github",
        "colab_type": "text"
      },
      "source": [
        "<a href=\"https://colab.research.google.com/github/Tanvi-Gajula/Projects/blob/main/functions.ipynb\" target=\"_parent\"><img src=\"https://colab.research.google.com/assets/colab-badge.svg\" alt=\"Open In Colab\"/></a>"
      ]
    },
    {
      "cell_type": "markdown",
      "source": [],
      "metadata": {
        "id": "TuzkdAaQPCYj"
      }
    },
    {
      "cell_type": "markdown",
      "source": [
        "1) write a program using functions to give the desired brand name to each item "
      ],
      "metadata": {
        "id": "JevNlUi9PEKa"
      }
    },
    {
      "cell_type": "code",
      "execution_count": null,
      "metadata": {
        "id": "ey7kZwR5NFNR",
        "colab": {
          "base_uri": "https://localhost:8080/"
        },
        "outputId": "311a08d9-ccdd-4f95-fbf5-d470ae89d955"
      },
      "outputs": [
        {
          "output_type": "stream",
          "name": "stdout",
          "text": [
            "enter the gender:female\n",
            "you are welcomed to female section\n",
            "enter the brand name of your choice:h and m\n",
            "Items under h and m are:\n",
            "\n",
            "leggings\n",
            "jeans\n",
            "tshirts\n",
            "shirts\n",
            "Items under h and m are:\n",
            "\n",
            "leggings:black colour\n",
            "jeans:denim\n",
            "tshirts:blue colour\n",
            "shirts:checks\n"
          ]
        }
      ],
      "source": [
        "gender=input(\"enter the gender:\") #taking gender as input\n",
        "def myfunc1(gender): #defining the function\n",
        "#if and elif to print the section of gender to shop\n",
        "  if(gender == \"male\"): \n",
        "    print(\"you are welcomed to male section\")\n",
        "  elif(gender == \"female\"):\n",
        "    print(\"you are welcomed to female section\")\n",
        "myfunc1(gender) #calling the function\n",
        "bname=input(\"enter the brand name of your choice:\") #taking the brand name as input\n",
        "def my_function(*fname): #declaring the function with parameter as fname\n",
        " for arg in fname:\n",
        "        print(arg)\n",
        "#defining the function with different fname\n",
        "print(\"Items under \"+bname+\" are:\\n\")\n",
        "my_function(\"leggings\",\"jeans\",\"tshirts\",\"shirts\") #calling the function\n",
        "def my_func2(**fname): #declaring the function with parameter as fname\n",
        "  for key, value in fname.items():\n",
        "        print(\"%s:%s\" % (key, value))\n",
        "print(\"Items under \"+bname+\" are:\\n\")\n",
        "#defining the function with different fname and calling th function\n",
        "my_func2(leggings='black colour', jeans='denim', tshirts='blue colour',shirts='checks')\n"
      ]
    },
    {
      "cell_type": "markdown",
      "source": [
        "2))Write a program by using the function where you will able to print the male section clothes in different list."
      ],
      "metadata": {
        "id": "66zU4uSpQA3S"
      }
    },
    {
      "cell_type": "code",
      "source": [
        "#importing the regular expression\n",
        "import re\n",
        "#creation of the list\n",
        "list1 =[\"M-JEANS\",\"F-JEANS\",\"M-SHIRTS\",\"F-SHIRTS\",'M-TSHIRTS',\"F-KURTI\",\"F-PAJAMAS\",\"M-JACKETS\"]\n",
        "#create function\n",
        "def Filter(datalist):\n",
        "    # Search data based on regular expression in the list\n",
        "    return [val for val in datalist\n",
        "        if re.search(r'^M', val)]\n",
        "# Print the filter data\n",
        "print(\"Male section choice are:\")\n",
        "print(Filter(list1))"
      ],
      "metadata": {
        "id": "XgE0FvaDP-zV",
        "colab": {
          "base_uri": "https://localhost:8080/"
        },
        "outputId": "465aef9b-5cad-44fe-81b3-ab5d1f3aa968"
      },
      "execution_count": null,
      "outputs": [
        {
          "output_type": "stream",
          "name": "stdout",
          "text": [
            "Male section choice are:\n",
            "['M-JEANS', 'M-SHIRTS', 'M-TSHIRTS', 'M-JACKETS']\n"
          ]
        }
      ]
    },
    {
      "cell_type": "markdown",
      "source": [
        "3)Multiply all elements of a list by 2 using lambda and map() function"
      ],
      "metadata": {
        "id": "ON8dR8Dmp18n"
      }
    },
    {
      "cell_type": "code",
      "source": [
        "#list of cost of all items bought\n",
        "pricelist = [500, 720, 229, 971, 543, 62, 775, 230, 73, 610]\n",
        "\n",
        "#list after adding the tax value to each item's cost\n",
        "price_taxlist = list(map(lambda x: x+(x*0.18), pricelist))\n",
        "#printing the new list\n",
        "print(price_taxlist)"
      ],
      "metadata": {
        "colab": {
          "base_uri": "https://localhost:8080/"
        },
        "id": "8SVEmQjJp1Pl",
        "outputId": "66476547-6779-4107-926d-619f5cc9862a"
      },
      "execution_count": null,
      "outputs": [
        {
          "output_type": "stream",
          "name": "stdout",
          "text": [
            "[590.0, 849.6, 270.22, 1145.78, 640.74, 73.16, 914.5, 271.4, 86.14, 719.8]\n"
          ]
        }
      ]
    },
    {
      "cell_type": "markdown",
      "source": [
        "4)Sum of all elements in a list using lambda and reduce() function"
      ],
      "metadata": {
        "id": "wLogE9MpqAYu"
      }
    },
    {
      "cell_type": "code",
      "source": [
        "from functools import reduce\n",
        "pricelist = []  #empty list\n",
        "#taking no. of items as input from user\n",
        "print(\"enter no. of item=\")\n",
        "item=int(input())\n",
        "#loop to take cost price of each item\n",
        "for i in range(1,item+1):\n",
        "  price=int(input(\"enter price for item %d=\" %i))\n",
        "  pricelist.append(price) # append function to add items in list\n",
        "billTotal = reduce((lambda x, y: x + y), pricelist) \n",
        "print(\"Total shopping bill=\",billTotal)"
      ],
      "metadata": {
        "colab": {
          "base_uri": "https://localhost:8080/"
        },
        "id": "ICUHhrPbp_5i",
        "outputId": "4111a9f2-f9c3-4120-c4d5-2142a7b5b0ad"
      },
      "execution_count": null,
      "outputs": [
        {
          "output_type": "stream",
          "name": "stdout",
          "text": [
            "enter no. of item=\n",
            "5\n",
            "enter price for item 1=23\n",
            "enter price for item 2=43\n",
            "enter price for item 3=65\n",
            "enter price for item 4=77\n",
            "enter price for item 5=31\n",
            "Total shopping bill= 239\n"
          ]
        }
      ]
    }
  ]
}