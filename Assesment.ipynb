{
  "nbformat": 4,
  "nbformat_minor": 0,
  "metadata": {
    "colab": {
      "provenance": [],
      "authorship_tag": "ABX9TyPSnT9qIcTNZoMwiruDvXmz",
      "include_colab_link": true
    },
    "kernelspec": {
      "name": "python3",
      "display_name": "Python 3"
    },
    "language_info": {
      "name": "python"
    }
  },
  "cells": [
    {
      "cell_type": "markdown",
      "metadata": {
        "id": "view-in-github",
        "colab_type": "text"
      },
      "source": [
        "<a href=\"https://colab.research.google.com/github/Tanvi-Gajula/Projects/blob/main/Assesment.ipynb\" target=\"_parent\"><img src=\"https://colab.research.google.com/assets/colab-badge.svg\" alt=\"Open In Colab\"/></a>"
      ]
    },
    {
      "cell_type": "markdown",
      "source": [
        "1. Create a dictionary for storing customer_details with “account_no” as key and “customer_name” as\n",
        "values for 10 customers in a bank. "
      ],
      "metadata": {
        "id": "UM3Ql2xkcrTK"
      }
    },
    {
      "cell_type": "code",
      "execution_count": null,
      "metadata": {
        "colab": {
          "base_uri": "https://localhost:8080/"
        },
        "id": "vqy2y9-TbWDM",
        "outputId": "f7a0bdbf-4d0f-431d-9bf9-8c2ffe2d5e89"
      },
      "outputs": [
        {
          "output_type": "stream",
          "name": "stdout",
          "text": [
            "Employee details:\n",
            "{21: 'Tanvi', 31: 'Bhavya', 42: 'Sankeerth', 11: 'Pooja', 65: 'Meghana', 15: 'Saanvi', 32: 'Mohit', 47: 'Pallavi', 18: 'Chinmayee', 61: 'Rekha'}\n"
          ]
        }
      ],
      "source": [
        "print(\"Employee details:\")\n",
        "custdet = {21:\"Tanvi\",31:\"Bhavya\",42:\"Sankeerth\",11:\"Pooja\",65:\"Meghana\",15:\"Saanvi\",32:\"Mohit\",47:\"Pallavi\",18:\"Chinmayee\",61:\"Rekha\",61:\"Rekha\"}\n",
        "print(custdet)"
      ]
    },
    {
      "cell_type": "markdown",
      "source": [
        "2. Print the details of any specific customer."
      ],
      "metadata": {
        "id": "jgBmpu4LctwR"
      }
    },
    {
      "cell_type": "code",
      "source": [
        "print(custdet[42])"
      ],
      "metadata": {
        "colab": {
          "base_uri": "https://localhost:8080/"
        },
        "id": "B9YxGYZLctIz",
        "outputId": "240ff535-b0cd-4913-baa1-175a888757c9"
      },
      "execution_count": null,
      "outputs": [
        {
          "output_type": "stream",
          "name": "stdout",
          "text": [
            "Sankeerth\n"
          ]
        }
      ]
    },
    {
      "cell_type": "markdown",
      "source": [
        "3. Create a list of “account_details” with “customer_name”."
      ],
      "metadata": {
        "id": "xEEkUb0idM3y"
      }
    },
    {
      "cell_type": "code",
      "source": [
        "print(\"Acccount details having customer names:\")\n",
        "list = [\"Tanvi\",\"sankeerth\",\"Bhavya\",\"Ayushi\",\"Vishali\"]\n",
        "print(list)"
      ],
      "metadata": {
        "colab": {
          "base_uri": "https://localhost:8080/"
        },
        "id": "XgqjGlvkdMD9",
        "outputId": "aa7c8c37-3600-413b-c535-2ac11b91c948"
      },
      "execution_count": null,
      "outputs": [
        {
          "output_type": "stream",
          "name": "stdout",
          "text": [
            "Acccount details having customer names:\n",
            "['Tanvi', 'sankeerth', 'Bhavya', 'Ayushi', 'Vishali']\n"
          ]
        }
      ]
    },
    {
      "cell_type": "markdown",
      "source": [
        "4. Write a Python script to check whether a given key already exists in a dictionary of\n",
        "customer_details."
      ],
      "metadata": {
        "id": "Tsc-Kg0Ddg3h"
      }
    },
    {
      "cell_type": "code",
      "source": [
        "21 in custdet"
      ],
      "metadata": {
        "colab": {
          "base_uri": "https://localhost:8080/"
        },
        "id": "X8oHFFZTdgPZ",
        "outputId": "ef987d4f-1fa1-48a4-cfb4-81c773903d6b"
      },
      "execution_count": null,
      "outputs": [
        {
          "output_type": "execute_result",
          "data": {
            "text/plain": [
              "True"
            ]
          },
          "metadata": {},
          "execution_count": 53
        }
      ]
    },
    {
      "cell_type": "markdown",
      "source": [
        "5. Write a Python program to remove duplicates from Dictionary customer_details. \n"
      ],
      "metadata": {
        "id": "HwO3rApkeFoa"
      }
    },
    {
      "cell_type": "code",
      "source": [
        "custdet.clear()"
      ],
      "metadata": {
        "id": "EixsnflceFME"
      },
      "execution_count": null,
      "outputs": []
    },
    {
      "cell_type": "markdown",
      "source": [
        "6. Write a Python program to read an entire text file."
      ],
      "metadata": {
        "id": "tVTsCLPreUBp"
      }
    },
    {
      "cell_type": "code",
      "source": [
        "f=open(\"opening_mall.txt\",\"r\")\n",
        "f.read()\n",
        "f.close()"
      ],
      "metadata": {
        "colab": {
          "base_uri": "https://localhost:8080/",
          "height": 200
        },
        "id": "RCN4qtTreTbU",
        "outputId": "65bcb14f-e28a-4abd-da64-e4c64e2eb49e"
      },
      "execution_count": null,
      "outputs": [
        {
          "output_type": "error",
          "ename": "FileNotFoundError",
          "evalue": "ignored",
          "traceback": [
            "\u001b[0;31m---------------------------------------------------------------------------\u001b[0m",
            "\u001b[0;31mFileNotFoundError\u001b[0m                         Traceback (most recent call last)",
            "\u001b[0;32m<ipython-input-67-a79ff052e151>\u001b[0m in \u001b[0;36m<module>\u001b[0;34m\u001b[0m\n\u001b[0;32m----> 1\u001b[0;31m \u001b[0mf\u001b[0m\u001b[0;34m=\u001b[0m\u001b[0mopen\u001b[0m\u001b[0;34m(\u001b[0m\u001b[0;34m\"mall.txt\"\u001b[0m\u001b[0;34m,\u001b[0m\u001b[0;34m\"r\"\u001b[0m\u001b[0;34m)\u001b[0m\u001b[0;34m\u001b[0m\u001b[0;34m\u001b[0m\u001b[0m\n\u001b[0m\u001b[1;32m      2\u001b[0m \u001b[0mf\u001b[0m\u001b[0;34m.\u001b[0m\u001b[0mread\u001b[0m\u001b[0;34m(\u001b[0m\u001b[0;34m)\u001b[0m\u001b[0;34m\u001b[0m\u001b[0;34m\u001b[0m\u001b[0m\n\u001b[1;32m      3\u001b[0m \u001b[0mf\u001b[0m\u001b[0;34m.\u001b[0m\u001b[0mclose\u001b[0m\u001b[0;34m(\u001b[0m\u001b[0;34m)\u001b[0m\u001b[0;34m\u001b[0m\u001b[0;34m\u001b[0m\u001b[0m\n",
            "\u001b[0;31mFileNotFoundError\u001b[0m: [Errno 2] No such file or directory: 'mall.txt'"
          ]
        }
      ]
    },
    {
      "cell_type": "markdown",
      "source": [
        "7. Write a python to find the length of the string in the text file you created"
      ],
      "metadata": {
        "id": "8oSDzVzDenwh"
      }
    },
    {
      "cell_type": "code",
      "source": [
        "f=open(\"opening_mall.txt\",\"r\")\n",
        "f.read()\n",
        "y=len(\"opening_mall.txt\")\n",
        "f.close()\n",
        "print(y)"
      ],
      "metadata": {
        "colab": {
          "base_uri": "https://localhost:8080/",
          "height": 235
        },
        "id": "aIZNX2rbenAi",
        "outputId": "88d29a09-4525-4b46-e41f-dca2c2b18e12"
      },
      "execution_count": null,
      "outputs": [
        {
          "output_type": "error",
          "ename": "FileNotFoundError",
          "evalue": "ignored",
          "traceback": [
            "\u001b[0;31m---------------------------------------------------------------------------\u001b[0m",
            "\u001b[0;31mFileNotFoundError\u001b[0m                         Traceback (most recent call last)",
            "\u001b[0;32m<ipython-input-70-99955e822c15>\u001b[0m in \u001b[0;36m<module>\u001b[0;34m\u001b[0m\n\u001b[0;32m----> 1\u001b[0;31m \u001b[0mf\u001b[0m\u001b[0;34m=\u001b[0m\u001b[0mopen\u001b[0m\u001b[0;34m(\u001b[0m\u001b[0;34m\"opening_mall.txt\"\u001b[0m\u001b[0;34m,\u001b[0m\u001b[0;34m\"r\"\u001b[0m\u001b[0;34m)\u001b[0m\u001b[0;34m\u001b[0m\u001b[0;34m\u001b[0m\u001b[0m\n\u001b[0m\u001b[1;32m      2\u001b[0m \u001b[0mf\u001b[0m\u001b[0;34m.\u001b[0m\u001b[0mread\u001b[0m\u001b[0;34m(\u001b[0m\u001b[0;34m)\u001b[0m\u001b[0;34m\u001b[0m\u001b[0;34m\u001b[0m\u001b[0m\n\u001b[1;32m      3\u001b[0m \u001b[0my\u001b[0m\u001b[0;34m=\u001b[0m\u001b[0mlen\u001b[0m\u001b[0;34m(\u001b[0m\u001b[0;34m\"opening_mall.txt\"\u001b[0m\u001b[0;34m)\u001b[0m\u001b[0;34m\u001b[0m\u001b[0;34m\u001b[0m\u001b[0m\n\u001b[1;32m      4\u001b[0m \u001b[0mf\u001b[0m\u001b[0;34m.\u001b[0m\u001b[0mclose\u001b[0m\u001b[0;34m(\u001b[0m\u001b[0;34m)\u001b[0m\u001b[0;34m\u001b[0m\u001b[0;34m\u001b[0m\u001b[0m\n\u001b[1;32m      5\u001b[0m \u001b[0mprint\u001b[0m\u001b[0;34m(\u001b[0m\u001b[0my\u001b[0m\u001b[0;34m)\u001b[0m\u001b[0;34m\u001b[0m\u001b[0;34m\u001b[0m\u001b[0m\n",
            "\u001b[0;31mFileNotFoundError\u001b[0m: [Errno 2] No such file or directory: 'opening_mall.txt'"
          ]
        }
      ]
    },
    {
      "cell_type": "markdown",
      "source": [
        "8. Create a tuple with a type of bank_account: such as: savings, salary, recurring deposit fixed deposit,\n",
        "current. Check if an Item Exists in the tuple, To determine if a specified item is present in a tuple use\n",
        "the in keyword. "
      ],
      "metadata": {
        "id": "bpj7qtQhe1vZ"
      }
    },
    {
      "cell_type": "code",
      "source": [
        "saving = (20000,30000,10000)\n",
        "salary = (200000,50000,80000)\n",
        "fixdeposit = (31050,21432,65478)\n",
        "cur = (2000,5000,10000)\n",
        "20000 in saving"
      ],
      "metadata": {
        "colab": {
          "base_uri": "https://localhost:8080/"
        },
        "id": "POTy1p9_e06i",
        "outputId": "ecef355f-7f63-470e-f2f8-8c88c1f39884"
      },
      "execution_count": null,
      "outputs": [
        {
          "output_type": "execute_result",
          "data": {
            "text/plain": [
              "True"
            ]
          },
          "metadata": {},
          "execution_count": 17
        }
      ]
    },
    {
      "cell_type": "code",
      "source": [
        "30000 in sal"
      ],
      "metadata": {
        "colab": {
          "base_uri": "https://localhost:8080/"
        },
        "id": "ST_FBjmnf7AQ",
        "outputId": "eadac405-45cd-4528-c996-257521a930b5"
      },
      "execution_count": null,
      "outputs": [
        {
          "output_type": "execute_result",
          "data": {
            "text/plain": [
              "False"
            ]
          },
          "metadata": {},
          "execution_count": 18
        }
      ]
    },
    {
      "cell_type": "code",
      "source": [
        "31050 in cur"
      ],
      "metadata": {
        "colab": {
          "base_uri": "https://localhost:8080/"
        },
        "id": "gFZ4BP2Tf7RY",
        "outputId": "8fbeb3ed-4b2e-4487-eae5-a0f3145b7a79"
      },
      "execution_count": null,
      "outputs": [
        {
          "output_type": "execute_result",
          "data": {
            "text/plain": [
              "False"
            ]
          },
          "metadata": {},
          "execution_count": 19
        }
      ]
    },
    {
      "cell_type": "markdown",
      "source": [
        "9. Write a content into a file which already exists (in a write mode)."
      ],
      "metadata": {
        "id": "jpB5MUNQgCyA"
      }
    },
    {
      "cell_type": "code",
      "source": [
        "f.open(\"opening_mall.txt\",\"r\",\"w\")\n",
        "f.append(\"Hello\")\n",
        "f.close()"
      ],
      "metadata": {
        "id": "rAJG_zhDgCH5"
      },
      "execution_count": null,
      "outputs": []
    },
    {
      "cell_type": "markdown",
      "source": [
        "10. Is it possible to have duplicate items in tuples? Create a tuple with customer_names which could\n",
        "even be the same if yes. If no, mention why.\n",
        "\n",
        "Ans:Tuples can have duplicate items\n"
      ],
      "metadata": {
        "id": "O_6nWKWggLSp"
      }
    },
    {
      "cell_type": "code",
      "source": [
        "print(\"Customer details:\")\n",
        "tup = (\"Tanvi\",\"sankeerth\",\"Bhavya\",\"Ayushi\",\"Vishali\",\"Tanvi\")\n",
        "print(tup)"
      ],
      "metadata": {
        "colab": {
          "base_uri": "https://localhost:8080/"
        },
        "id": "tqwAyvcRgKsZ",
        "outputId": "8a329340-cf8d-4b60-8b72-f72085343d89"
      },
      "execution_count": null,
      "outputs": [
        {
          "output_type": "stream",
          "name": "stdout",
          "text": [
            "('Tanvi', 'sankeerth', 'Bhavya', 'Ayushi', 'Vishali', 'Tanvi')\n"
          ]
        }
      ]
    },
    {
      "cell_type": "markdown",
      "source": [
        "11. Determine how many items does a tuple (from the tuple you already created) has using an\n",
        "appropriate function."
      ],
      "metadata": {
        "id": "CRgMOfD1hKpB"
      }
    },
    {
      "cell_type": "code",
      "source": [
        "def func(y):\n",
        " y=tup[:]\n",
        " print(y)\n",
        " func(y)"
      ],
      "metadata": {
        "id": "mUNF6WjOhI6T"
      },
      "execution_count": null,
      "outputs": []
    },
    {
      "cell_type": "markdown",
      "source": [
        "12. Create a basic function in python to calculate whether a given number is a prime number of not."
      ],
      "metadata": {
        "id": "msdFdvsYhRaw"
      }
    },
    {
      "cell_type": "code",
      "source": [
        "def funcp(a,n):\n",
        "  if(a==1):\n",
        "    print(\"Not a prime no\")\n",
        "  elif(a != 2,4,6,8,10):\n",
        "    print(\"Its is a prime number\")\n",
        "funcp(3,10)"
      ],
      "metadata": {
        "colab": {
          "base_uri": "https://localhost:8080/"
        },
        "id": "Cq5UfAMhhJdQ",
        "outputId": "14bbeedb-0ab8-4c77-9d1f-a12702fd81ec"
      },
      "execution_count": null,
      "outputs": [
        {
          "output_type": "stream",
          "name": "stdout",
          "text": [
            "Its is a prime number\n"
          ]
        }
      ]
    },
    {
      "cell_type": "markdown",
      "source": [
        "13. Pass the list of customer_details you already created and return the values."
      ],
      "metadata": {
        "id": "uXzNQ2T1hYfy"
      }
    },
    {
      "cell_type": "code",
      "source": [
        "list = [\"Tanvi\",\"sankeerth\",\"Bhavya\",\"Ayushi\",\"Vishali\"]\n",
        "print(list)"
      ],
      "metadata": {
        "colab": {
          "base_uri": "https://localhost:8080/"
        },
        "id": "tOP0tcvWhJrZ",
        "outputId": "844cc755-2d5b-4d03-b0b2-c05735557269"
      },
      "execution_count": null,
      "outputs": [
        {
          "output_type": "stream",
          "name": "stdout",
          "text": [
            "['Tanvi', 'sankeerth', 'Bhavya', 'Ayushi', 'Vishali']\n"
          ]
        }
      ]
    },
    {
      "cell_type": "markdown",
      "source": [
        "14. Modify the list of customer_details by applying the below methods.\n",
        "a) Add a customer name “Varun” with other details.\n",
        "b) Remove an existing customer from the list.\n",
        "c) Copy a list to another list."
      ],
      "metadata": {
        "id": "tCB-OLOShVco"
      }
    },
    {
      "cell_type": "code",
      "source": [
        "list.append(\"varun\")\n",
        "print(list)\n",
        "list.remove(\"Ayushi\")\n",
        "print(list)\n",
        "list2 = list.copy()\n",
        "print(list2)"
      ],
      "metadata": {
        "colab": {
          "base_uri": "https://localhost:8080/"
        },
        "id": "TmEIQidRhJ3J",
        "outputId": "4e7063fd-9308-40a6-b0c8-e7ded01cfc5a"
      },
      "execution_count": null,
      "outputs": [
        {
          "output_type": "stream",
          "name": "stdout",
          "text": [
            "['Tanvi', 'sankeerth', 'Bhavya', 'Ayushi', 'Vishali', 'varun']\n",
            "['Tanvi', 'sankeerth', 'Bhavya', 'Vishali', 'varun']\n",
            "['Tanvi', 'sankeerth', 'Bhavya', 'Vishali', 'varun']\n"
          ]
        }
      ]
    },
    {
      "cell_type": "markdown",
      "source": [
        "15. Change the value of a specific item from the list, refer to the index number. "
      ],
      "metadata": {
        "id": "HUuefxcbhV4w"
      }
    },
    {
      "cell_type": "code",
      "source": [
        "list[0]=\"Chandu\"\n",
        "print(list)"
      ],
      "metadata": {
        "colab": {
          "base_uri": "https://localhost:8080/"
        },
        "id": "9ZAYOLNyhKBK",
        "outputId": "87c80c4e-89ae-41e0-9a15-420a9c668cb3"
      },
      "execution_count": null,
      "outputs": [
        {
          "output_type": "stream",
          "name": "stdout",
          "text": [
            "['Chandu', 'sankeerth', 'Bhavya', 'Vishali', 'varun']\n"
          ]
        }
      ]
    }
  ]
}