{
  "nbformat": 4,
  "nbformat_minor": 0,
  "metadata": {
    "colab": {
      "provenance": [],
      "authorship_tag": "ABX9TyPKrGxUGCKgijzJgCTsnBIj",
      "include_colab_link": true
    },
    "kernelspec": {
      "name": "python3",
      "display_name": "Python 3"
    },
    "language_info": {
      "name": "python"
    }
  },
  "cells": [
    {
      "cell_type": "markdown",
      "metadata": {
        "id": "view-in-github",
        "colab_type": "text"
      },
      "source": [
        "<a href=\"https://colab.research.google.com/github/Tanvi-Gajula/Projects/blob/main/Dictionary.ipynb\" target=\"_parent\"><img src=\"https://colab.research.google.com/assets/colab-badge.svg\" alt=\"Open In Colab\"/></a>"
      ]
    },
    {
      "cell_type": "markdown",
      "source": [
        " DATA SCIENCE\n",
        "Dictionary:\n",
        "Name:Tanvi Gajula\n",
        "Regno:21MIA1076"
      ],
      "metadata": {
        "id": "VggXf9xASPIR"
      }
    },
    {
      "cell_type": "markdown",
      "source": [
        "1)create a dictionary with student no as key and name as values for 5 students(Dict1)\n",
        "\n",
        "2)print the name of student with regno 21MIA1110\n",
        "\n",
        "3)create dictionary with  student no and cgpa for 5 students\n",
        "\n",
        "4)print the cgpa of a particular student(eg.21MIA1110)\n",
        "\n",
        "5)Remove the student 21MIA1110 from your Dict1\n",
        "\n",
        "6)add the students 21MIA1120 and 21MIA2220 with their names in Dict1\n",
        "\n",
        "7)print the no of items in Dict1 and Dict2\n",
        "\n",
        "8)add the students 21MIA1120 and 21MIA2220 in Dict2 by including their cgpa\n",
        "\n",
        "9)add the subjects offer in this semester into the Dict2\n",
        "\n",
        "10)check whether the subject \"Data Science\" is offered using Dict2\n",
        "\n",
        "11)add one more subject \"Ethics\" into your Dict2 in appropriate place\n",
        "\n",
        "12)check whether student 21MIA1112 is present in Dict2, if found ,print CGPA\n",
        "\n",
        "13)Delete the student details(21MIA1112) from both dictionary\n",
        "\n",
        "14)initialize dictionary 1 value with None and dictionary 2 value with 0\n",
        "\n",
        "15)use dictionary functions such as copy(),clear(),pop(),str(),len()\n",
        "\n",
        "16)replace elif ladder and switch case dictionary"
      ],
      "metadata": {
        "id": "QSzuv5DrxToj"
      }
    },
    {
      "cell_type": "code",
      "source": [
        "mydict1= { '21MIA1076' :'tanvi', '21MIA1110':'ayushi','21MIA1120':'vishali','21MIA2220':'priya','21MIA1112':'sahil'}\n",
        "print(mydict1)"
      ],
      "metadata": {
        "colab": {
          "base_uri": "https://localhost:8080/"
        },
        "id": "rwZpyLBg0vw7",
        "outputId": "5f0f0926-7268-46c3-c9c9-37e9b9f64102"
      },
      "execution_count": null,
      "outputs": [
        {
          "output_type": "stream",
          "name": "stdout",
          "text": [
            "{'21MIA1076': 'tanvi', '21MIA1110': 'ayushi', '21MIA1120': 'vishali', '21MIA2220': 'priya', '21MIA1112': 'sahil'}\n"
          ]
        }
      ]
    },
    {
      "cell_type": "code",
      "source": [
        "print(mydict1['21MIA1110'])"
      ],
      "metadata": {
        "colab": {
          "base_uri": "https://localhost:8080/"
        },
        "id": "y23BG_4R2sKc",
        "outputId": "30a478fe-96ec-41e9-84df-9d4bedb77a50"
      },
      "execution_count": null,
      "outputs": [
        {
          "output_type": "stream",
          "name": "stdout",
          "text": [
            "ayushi\n"
          ]
        }
      ]
    },
    {
      "cell_type": "code",
      "source": [
        "mydict2= { '21MIA1076' :7.8, '21MIA1110':9.8,'21MIA1120':9.0,'21MIA2220':8.4,'21MIA1112':9.3}\n",
        "print(mydict2)"
      ],
      "metadata": {
        "colab": {
          "base_uri": "https://localhost:8080/"
        },
        "id": "HXkEKgb53B_a",
        "outputId": "89a60519-bab2-445c-9f65-142a073d8798"
      },
      "execution_count": null,
      "outputs": [
        {
          "output_type": "stream",
          "name": "stdout",
          "text": [
            "{'21MIA1076': 7.8, '21MIA1110': 9.8, '21MIA1120': 9.0, '21MIA2220': 8.4, '21MIA1112': 9.3}\n"
          ]
        }
      ]
    },
    {
      "cell_type": "code",
      "source": [
        "print(mydict2['21MIA1110'])"
      ],
      "metadata": {
        "colab": {
          "base_uri": "https://localhost:8080/"
        },
        "id": "bQp4g0rY4aL4",
        "outputId": "93645b7f-102c-4d95-d346-44ac0c05a9e7"
      },
      "execution_count": null,
      "outputs": [
        {
          "output_type": "stream",
          "name": "stdout",
          "text": [
            "9.8\n"
          ]
        }
      ]
    },
    {
      "cell_type": "code",
      "source": [
        "mydict1= { '21MIA1076' :'tanvi', '21MIA1110':'ayushi','21MIA1120':'vishali','21MIA2220':'priya','21MIA1112':'sahil'}\n",
        "mydict1.pop(\"21MIA1110\")\n",
        "print(mydict1)"
      ],
      "metadata": {
        "colab": {
          "base_uri": "https://localhost:8080/"
        },
        "id": "YE5au3Nw4guj",
        "outputId": "a03d8933-0320-4d3a-893b-b16a43be7cec"
      },
      "execution_count": null,
      "outputs": [
        {
          "output_type": "stream",
          "name": "stdout",
          "text": [
            "{'21MIA1076': 'tanvi', '21MIA1120': 'vishali', '21MIA2220': 'priya', '21MIA1112': 'sahil'}\n"
          ]
        }
      ]
    },
    {
      "cell_type": "code",
      "source": [
        "mydict1[\"21MIA1120\"] = \"Bhavya\"\n",
        "mydict1[\"21MIA2220\"] = \"pinky\"\n",
        "print(mydict1)"
      ],
      "metadata": {
        "colab": {
          "base_uri": "https://localhost:8080/"
        },
        "id": "RGmsMqpi5Ntk",
        "outputId": "68935cd5-6033-4c22-f2c0-a47a8824fe9d"
      },
      "execution_count": null,
      "outputs": [
        {
          "output_type": "stream",
          "name": "stdout",
          "text": [
            "{'21MIA1076': 'tanvi', '21MIA1120': 'Bhavya', '21MIA2220': 'pinky', '21MIA1112': 'sahil'}\n"
          ]
        }
      ]
    },
    {
      "cell_type": "code",
      "source": [
        "print(len(mydict1))\n",
        "print(len(mydict2))"
      ],
      "metadata": {
        "colab": {
          "base_uri": "https://localhost:8080/"
        },
        "id": "G8icSPT251DU",
        "outputId": "b52750e4-b439-4e8e-d350-a4d31537e4fd"
      },
      "execution_count": null,
      "outputs": [
        {
          "output_type": "stream",
          "name": "stdout",
          "text": [
            "4\n",
            "5\n"
          ]
        }
      ]
    },
    {
      "cell_type": "code",
      "source": [
        "mydict2[\"21MIA1120\"] = 9.6\n",
        "mydict2[\"21MIA2220\"] = 7.5\n",
        "print(mydict2)"
      ],
      "metadata": {
        "colab": {
          "base_uri": "https://localhost:8080/"
        },
        "id": "V46Fbzvw6E17",
        "outputId": "c215752c-e83c-4c4e-a753-10f7b97813f0"
      },
      "execution_count": null,
      "outputs": [
        {
          "output_type": "stream",
          "name": "stdout",
          "text": [
            "{'21MIA1076': 7.8, '21MIA1110': 9.8, '21MIA1120': 9.6, '21MIA2220': 7.5, '21MIA1112': 9.3}\n"
          ]
        }
      ]
    },
    {
      "cell_type": "code",
      "source": [
        "mydict2={'21MIA1076': 7.8, '21MIA1110': 9.8, '21MIA1120': 9.6, '21MIA2220': 7.5, '21MIA1112': 9.3}\n",
        "mydict2[\"Subjects\"] =[\"Science\",\"Maths\",\"English\",\"DataScience\"]\n",
        "print(mydict2)"
      ],
      "metadata": {
        "colab": {
          "base_uri": "https://localhost:8080/"
        },
        "id": "tgWsLUo1Fnf1",
        "outputId": "a1a4e13b-6498-4ca3-f90e-4e143ab1bcfb"
      },
      "execution_count": null,
      "outputs": [
        {
          "output_type": "stream",
          "name": "stdout",
          "text": [
            "{'21MIA1076': 7.8, '21MIA1110': 9.8, '21MIA1120': 9.6, '21MIA2220': 7.5, '21MIA1112': 9.3, 'Subjects': ['Science', 'Maths', 'English', 'DataScience']}\n"
          ]
        }
      ]
    },
    {
      "cell_type": "code",
      "source": [
        "mydict2={'21MIA1076': 7.8, '21MIA1110': 9.8, '21MIA1120': 9.6, '21MIA2220': 7.5, '21MIA1112': 9.3, 'Subjects': ['Science', 'Maths', 'English', 'DataScience']}\n",
        "list=mydict2['Subjects']\n",
        "for i in list:\n",
        "  if i == \"DataScience\":\n",
        "      print(\"Data Science is present\")"
      ],
      "metadata": {
        "colab": {
          "base_uri": "https://localhost:8080/"
        },
        "id": "mvr3-mWKGjFP",
        "outputId": "4acec202-391a-46c4-8bd4-4c95da7824be"
      },
      "execution_count": null,
      "outputs": [
        {
          "output_type": "stream",
          "name": "stdout",
          "text": [
            "Data Science is present\n"
          ]
        }
      ]
    },
    {
      "cell_type": "code",
      "source": [
        "mydict2['Subjects'][3]='ethics'\n",
        "print(mydict2)"
      ],
      "metadata": {
        "id": "pPpt8RotQT7Y",
        "colab": {
          "base_uri": "https://localhost:8080/"
        },
        "outputId": "c28d0ab9-fc27-47bb-cfb3-a868b05ef4ff"
      },
      "execution_count": null,
      "outputs": [
        {
          "output_type": "stream",
          "name": "stdout",
          "text": [
            "{'21MIA1076': 7.8, '21MIA1110': 9.8, '21MIA1120': 9.6, '21MIA2220': 7.5, '21MIA1112': 9.3, 'Subjects': ['Science', 'Maths', 'English', 'ethics']}\n"
          ]
        }
      ]
    },
    {
      "cell_type": "code",
      "source": [
        "print('21MIA1120' in mydict2)\n",
        "print(mydict2['21MIA1120'])"
      ],
      "metadata": {
        "id": "JHe_Ex4uQUNR",
        "colab": {
          "base_uri": "https://localhost:8080/"
        },
        "outputId": "a479093c-bddb-451d-f7c2-6df4cc9dd732"
      },
      "execution_count": null,
      "outputs": [
        {
          "output_type": "stream",
          "name": "stdout",
          "text": [
            "True\n",
            "9.6\n"
          ]
        }
      ]
    },
    {
      "cell_type": "code",
      "source": [
        "del mydict1['21MIA1120']\n",
        "del mydict2['21MIA1120']"
      ],
      "metadata": {
        "id": "nm55Z71YQUc8"
      },
      "execution_count": null,
      "outputs": []
    },
    {
      "cell_type": "code",
      "source": [
        "mydict3 = dict.fromkeys(['21MIA1066','21MIA1076','21MIA1069'],None)\n",
        "mydict3"
      ],
      "metadata": {
        "id": "d86wRPNNQUqP",
        "colab": {
          "base_uri": "https://localhost:8080/"
        },
        "outputId": "80e10f18-0617-4b14-da60-03888ad0b022"
      },
      "execution_count": null,
      "outputs": [
        {
          "output_type": "execute_result",
          "data": {
            "text/plain": [
              "{'21MIA1066': None, '21MIA1076': None, '21MIA1069': None}"
            ]
          },
          "metadata": {},
          "execution_count": 28
        }
      ]
    },
    {
      "cell_type": "code",
      "source": [
        "telephone={\"John Paul\":[9876322342],\"Vishali\":[9732313113],\"Michel John\":[7839939222,8732414123]}\n",
        "for i,j in telephone.items():\n",
        "  if \"John\" in i:\n",
        "    for k in j:\n",
        "      print(k)"
      ],
      "metadata": {
        "colab": {
          "base_uri": "https://localhost:8080/"
        },
        "id": "vdbwoRM9MU3j",
        "outputId": "78fc4152-5b1a-415d-e3dd-9029c5ca65d1"
      },
      "execution_count": null,
      "outputs": [
        {
          "output_type": "stream",
          "name": "stdout",
          "text": [
            "9876322342\n",
            "7839939222\n",
            "8732414123\n"
          ]
        }
      ]
    },
    {
      "cell_type": "code",
      "source": [
        "team={\"Rajat\":\"Punjab Tiger\",\"Tarun\":\"Mumbai Indians\",\"Jatin\":\"Punjab Tiger\",\"Vishwas\":\"Delhi Dragons\",\"Bunny\":\"Mumbai Indians\",\"Utkarsh\":\"Punjab Tiger\"}\n",
        "m=input(\"Enter the name of the team:\")\n",
        "for i,j in team.items():\n",
        " if m==j:\n",
        "    for k in i:\n",
        "      print(k)"
      ],
      "metadata": {
        "colab": {
          "base_uri": "https://localhost:8080/"
        },
        "id": "Rp84Y5jzMZ7a",
        "outputId": "7401f83a-c396-451c-b0b6-3be48725c20b"
      },
      "execution_count": null,
      "outputs": [
        {
          "output_type": "stream",
          "name": "stdout",
          "text": [
            "Enter the name of the team:Mumbai Indians\n",
            "T\n",
            "a\n",
            "r\n",
            "u\n",
            "n\n",
            "B\n",
            "u\n",
            "n\n",
            "n\n",
            "y\n"
          ]
        }
      ]
    }
  ]
}