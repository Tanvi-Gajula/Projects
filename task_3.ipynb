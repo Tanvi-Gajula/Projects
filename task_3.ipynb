{
  "nbformat": 4,
  "nbformat_minor": 0,
  "metadata": {
    "colab": {
      "provenance": [],
      "authorship_tag": "ABX9TyPG8aWiw4klMXBoesBYNpbi",
      "include_colab_link": true
    },
    "kernelspec": {
      "name": "python3",
      "display_name": "Python 3"
    },
    "language_info": {
      "name": "python"
    }
  },
  "cells": [
    {
      "cell_type": "markdown",
      "metadata": {
        "id": "view-in-github",
        "colab_type": "text"
      },
      "source": [
        "<a href=\"https://colab.research.google.com/github/Tanvi-Gajula/Projects/blob/main/task_3.ipynb\" target=\"_parent\"><img src=\"https://colab.research.google.com/assets/colab-badge.svg\" alt=\"Open In Colab\"/></a>"
      ]
    },
    {
      "cell_type": "code",
      "execution_count": null,
      "metadata": {
        "id": "3ihuqlomHYNA",
        "colab": {
          "base_uri": "https://localhost:8080/"
        },
        "outputId": "d144358d-7218-4b66-d375-0283c975b222"
      },
      "outputs": [
        {
          "output_type": "stream",
          "name": "stdout",
          "text": [
            "Enter no of chocolates:20\n",
            "Total no of chocolates: 22\n",
            "Enter extra chocolate you want:5\n",
            "Total n wrappers: 46\n"
          ]
        }
      ],
      "source": [
        "choc=int(input(\"Enter no of chocolates:\")) #taking no of chocolate input from user\n",
        "wrappers = choc #no of wrappers are no of chocolates eaten\n",
        "while wrappers != 0: #while loop till wrappers are not equal to 0\n",
        "   if wrappers >= 10: #if wrappers are greater than or equal to 10\n",
        "      wrappers=wrappers-10 #then minus 10 wrappers from total\n",
        "      choc=choc+1 #and add 1 chocolate to existing\n",
        "print(\"Total no of chocolates:\",choc) #printing total no of chocolates\n",
        "n=int(input(\"Enter extra chocolate you want:\")) #taking no of extra chocolate want from user\n",
        "wrapper=(10+(n-1)*9) #calculating the wrappers for n no of choclates\n",
        "print(\"Total n wrappers:\",wrapper) "
      ]
    },
    {
      "cell_type": "code",
      "source": [
        "#taking choice of hourly based or distance based ride\n",
        "choice=input(\"Enter the choice of ride hourly or distance based:\") #taking distance and hour choice ride from user\n",
        "if choice == \"dis\":\n",
        "  dist=int(input(\"Enter the no of kms:\")) #taking the distance covered from user in kms\n",
        "  #For 1km the cost is Rs.20\n",
        "  distance=dist*20 #distance amount calculation\n",
        "  extdis=int(input(\"Enter the extra km:\")) #taking the extra distance from user\n",
        "  #1 extra km charge Rs.20\n",
        "  totalamt=distance+(extdis*20) #total amount calculation\n",
        "  print(\"Total amount distance based:\",totalamt)\n",
        "elif choice == \"hr\":\n",
        "    ridehr=int(input(\"Enter the no of hours of ride:\")) #taking ride hours from user\n",
        "    exhr=int(input(\"Enter the extra hours:\")) #taking the extra hours of ride from user\n",
        "    #for 1hour extra the charge is Rs.500\n",
        "    extratym2=exhr*1000 #calculating the extra time of ride\n",
        "    totalamt2=(ridehr*1000)+extratym2 #calculating the total amount of ride\n",
        "    print(\"Total amount of the ride:\",totalamt2)"
      ],
      "metadata": {
        "colab": {
          "base_uri": "https://localhost:8080/"
        },
        "id": "o0tOudedDQgA",
        "outputId": "3e82073e-63e0-47ad-8333-5a6f9d93c9dc"
      },
      "execution_count": null,
      "outputs": [
        {
          "output_type": "stream",
          "name": "stdout",
          "text": [
            "Enter the choice of ride hourly or distance based:dis\n",
            "Enter the no of kms:30\n",
            "Enter the extra km:1\n",
            "Total amount distance based: 620\n"
          ]
        }
      ]
    }
  ]
}