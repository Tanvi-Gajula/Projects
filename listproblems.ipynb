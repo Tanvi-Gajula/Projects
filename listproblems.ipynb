{
  "nbformat": 4,
  "nbformat_minor": 0,
  "metadata": {
    "colab": {
      "provenance": [],
      "authorship_tag": "ABX9TyO2+G1TU9Sn0nfdh11KtOUT",
      "include_colab_link": true
    },
    "kernelspec": {
      "name": "python3",
      "display_name": "Python 3"
    },
    "language_info": {
      "name": "python"
    }
  },
  "cells": [
    {
      "cell_type": "markdown",
      "metadata": {
        "id": "view-in-github",
        "colab_type": "text"
      },
      "source": [
        "<a href=\"https://colab.research.google.com/github/Tanvi-Gajula/Projects/blob/main/listproblems.ipynb\" target=\"_parent\"><img src=\"https://colab.research.google.com/assets/colab-badge.svg\" alt=\"Open In Colab\"/></a>"
      ]
    },
    {
      "cell_type": "code",
      "execution_count": null,
      "metadata": {
        "colab": {
          "base_uri": "https://localhost:8080/"
        },
        "id": "HUglt459OAls",
        "outputId": "560a0451-e91a-42f7-eda8-30048f83afd7"
      },
      "outputs": [
        {
          "output_type": "stream",
          "name": "stdout",
          "text": [
            "Details: ['Tanvi', 18, 2004, 92, 1]\n",
            "yearofbirth: 2004\n",
            "age and yearofbirth: [18, 2004]\n",
            "After updating 12th marks to 10th marks: ['Tanvi', 18, 2004, 80, 1]\n",
            "After deleting no of siblings: ['Tanvi', 18, 2004, 80]\n"
          ]
        }
      ],
      "source": [
        "mylist=['Tanvi',18,2004,92,1] #List creation\n",
        "print(\"Details:\",mylist)\n",
        "print(\"yearofbirth:\",mylist[2]) #indexing\n",
        "print(\"age and yearofbirth:\",mylist[1:3]) #slicing\n",
        "mylist[3]=80 ##updation\n",
        "print(\"After updating 12th marks to 10th marks:\",mylist) \n",
        "del mylist[-1] #deletion\n",
        "print(\"After deleting no of siblings:\",mylist) "
      ]
    },
    {
      "cell_type": "markdown",
      "source": [],
      "metadata": {
        "id": "Ka29yJByR1hy"
      }
    },
    {
      "cell_type": "code",
      "source": [
        "mylist2=[99.7,\"Chennai\",55,\"VIT\",21] #list creation\n",
        "print(len(mylist)) #length of list\n",
        "mylist3=[22,9.7] #list creation\n",
        "print(mylist2+mylist3) #combining the content of two lists\n",
        "print(mylist2[1]*3) #repetition of elements in list"
      ],
      "metadata": {
        "colab": {
          "base_uri": "https://localhost:8080/"
        },
        "id": "nIaMefUcRwOq",
        "outputId": "1bcf00c9-95ce-4aec-f343-2ecd9c3209dd"
      },
      "execution_count": null,
      "outputs": [
        {
          "output_type": "stream",
          "name": "stdout",
          "text": [
            "4\n",
            "[99.7, 'Chennai', 55, 'VIT', 21, 22, 9.7]\n",
            "ChennaiChennaiChennai\n"
          ]
        }
      ]
    },
    {
      "cell_type": "markdown",
      "source": [
        "basic operations in list\n"
      ],
      "metadata": {
        "id": "QEtPKitHRtcu"
      }
    },
    {
      "cell_type": "markdown",
      "source": [],
      "metadata": {
        "id": "WueSUgmaRtZW"
      }
    },
    {
      "cell_type": "code",
      "source": [
        "A = [[1,2,3],[5,3,1],[7,9,8]]\n",
        "B = [[3,4],[12,4],[8,14]]\n",
        " \n",
        "# retrieving the sizes/dimensions of the matrices\n",
        "p = len(A)\n",
        "q = len(A[0])\n",
        " \n",
        "t = len(B)\n",
        "r = len(B[0])\n",
        " \n",
        "if(q!=t):\n",
        "   print(\"Error! Matrix sizes are not compatible\")\n",
        "   quit()\n",
        " \n",
        "# creating the product matrix of dimensions p×r\n",
        "# and filling the matrix with 0 entries\n",
        "C = []\n",
        "for row in range(p):\n",
        "   curr_row = []\n",
        "   for col in range(r):\n",
        "       curr_row.append(0)\n",
        "   C.append(curr_row)\n",
        " \n",
        " \n",
        "# performing the matrix multiplication\n",
        "for i in range(p):\n",
        "   for j in range(r):\n",
        "       curr_val = 0\n",
        "       for k in range(q):\n",
        "           curr_val += A[i][k]*B[k][j]\n",
        "       C[i][j] = curr_val\n",
        " \n",
        "print(C)"
      ],
      "metadata": {
        "colab": {
          "base_uri": "https://localhost:8080/"
        },
        "id": "RPWiyGc4biro",
        "outputId": "29244ec2-dd1e-4646-a1c1-b733fe3a05f1"
      },
      "execution_count": null,
      "outputs": [
        {
          "output_type": "stream",
          "name": "stdout",
          "text": [
            "[[51, 54], [59, 46], [193, 176]]\n"
          ]
        }
      ]
    },
    {
      "cell_type": "markdown",
      "source": [
        "Multiplication of matrix"
      ],
      "metadata": {
        "id": "oDftVTxZbjOo"
      }
    },
    {
      "cell_type": "code",
      "source": [
        "mymatrix = [[3, 4, 3], [8, 7, 6], [2, 1, 5]]\n",
        "print(mymatrix[2])\n",
        "print(mymatrix[0][2])\n",
        "\n"
      ],
      "metadata": {
        "colab": {
          "base_uri": "https://localhost:8080/"
        },
        "id": "utg6b4tkaI_-",
        "outputId": "3dfeddd8-3005-4042-922b-bedfb67576e0"
      },
      "execution_count": null,
      "outputs": [
        {
          "output_type": "stream",
          "name": "stdout",
          "text": [
            "[2, 1, 5]\n",
            "3\n"
          ]
        }
      ]
    },
    {
      "cell_type": "markdown",
      "source": [
        "Matrix"
      ],
      "metadata": {
        "id": "a-NsPECcaJtO"
      }
    },
    {
      "cell_type": "code",
      "source": [
        "mylist5=[1,2,3,4,5] #List creation\n",
        "mylist5.insert(3,8) #insertion\n",
        "print(mylist5)\n",
        "mylist5.remove(3) #deletion\n",
        "print(mylist5)\n",
        "mylist5.sort() #Sorting\n",
        "print(mylist5)\n",
        "mylist5.reverse() #reversing the list\n",
        "print(mylist5)\n",
        "mylist5.pop(2) #poping the elememnts of list\n",
        "print(mylist5)"
      ],
      "metadata": {
        "colab": {
          "base_uri": "https://localhost:8080/"
        },
        "id": "YYKp5SqXWUEN",
        "outputId": "de8bb7a0-b926-47a0-b955-2e050c7b6acc"
      },
      "execution_count": null,
      "outputs": [
        {
          "output_type": "stream",
          "name": "stdout",
          "text": [
            "[1, 2, 3, 8, 4, 5]\n",
            "[1, 2, 8, 4, 5]\n",
            "[1, 2, 4, 5, 8]\n",
            "[8, 5, 4, 2, 1]\n",
            "[8, 5, 2, 1]\n"
          ]
        }
      ]
    },
    {
      "cell_type": "markdown",
      "source": [
        "List Methods"
      ],
      "metadata": {
        "id": "TGbtShvjWVCw"
      }
    },
    {
      "cell_type": "code",
      "source": [
        "mylist4=['A','B','C','D'] #List creation\n",
        "for i in 'ABCD':\n",
        "    mylist4.append(i * 4)\n",
        "print(mylist4)\n",
        "#another way\n",
        "l = [i * 4 for i in 'ABCD']\n",
        "print(l)"
      ],
      "metadata": {
        "colab": {
          "base_uri": "https://localhost:8080/"
        },
        "id": "17fporECTaxB",
        "outputId": "0a115490-fdee-45fc-fa82-432d88efd1db"
      },
      "execution_count": null,
      "outputs": [
        {
          "output_type": "stream",
          "name": "stdout",
          "text": [
            "['A', 'B', 'C', 'D', 'AAAA', 'BBBB', 'CCCC', 'DDDD']\n",
            "['AAAA', 'BBBB', 'CCCC', 'DDDD']\n"
          ]
        }
      ]
    },
    {
      "cell_type": "markdown",
      "source": [
        "List Comprehension\n"
      ],
      "metadata": {
        "id": "jSuvzdBfTw_A"
      }
    }
  ]
}